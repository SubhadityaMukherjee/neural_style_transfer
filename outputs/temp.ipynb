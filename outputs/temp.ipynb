{
 "cells": [
  {
   "cell_type": "code",
   "execution_count": null,
   "metadata": {
    "hide_input": true,
    "inputHidden": true
   },
   "outputs": [
    {
     "data": {
      "text/html": [
       "<span style=\"color:red; font-family:Helvetica Neue, Helvetica, Arial, sans-serif; font-size:2em;\">An Exception was encountered at 'In [28]'.</span>"
      ]
     },
     "metadata": {},
     "output_type": "display_data"
    }
   ],
   "source": [
    "%%html\n",
    "<span style=\"color:red; font-family:Helvetica Neue, Helvetica, Arial, sans-serif; font-size:2em;\">An Exception was encountered at 'In [28]'.</span>"
   ]
  },
  {
   "cell_type": "code",
   "execution_count": 1,
   "metadata": {
    "ExecuteTime": {
     "start_time": "2020-01-28T09:58:47.653Z"
    },
    "papermill": {
     "duration": 0.035217,
     "end_time": "2020-01-28T11:34:42.419820",
     "exception": false,
     "start_time": "2020-01-28T11:34:42.384603",
     "status": "completed"
    },
    "run_control": {
     "marked": false
    },
    "tags": [
     "parameters"
    ]
   },
   "outputs": [],
   "source": [
    "content_path = 'images/trump.jpeg'\n",
    "name_me = '0'"
   ]
  },
  {
   "cell_type": "code",
   "execution_count": 2,
   "metadata": {
    "papermill": {
     "duration": 0.032555,
     "end_time": "2020-01-28T11:34:42.477847",
     "exception": false,
     "start_time": "2020-01-28T11:34:42.445292",
     "status": "completed"
    },
    "tags": [
     "injected-parameters"
    ]
   },
   "outputs": [],
   "source": [
    "# Parameters\n",
    "content_path = \"movie/146.jpg\"\n",
    "name_me = \"146\"\n"
   ]
  },
  {
   "cell_type": "code",
   "execution_count": 3,
   "metadata": {
    "ExecuteTime": {
     "end_time": "2020-01-28T10:05:42.378016Z",
     "start_time": "2020-01-28T10:05:42.374026Z"
    },
    "papermill": {
     "duration": 0.030918,
     "end_time": "2020-01-28T11:34:42.531098",
     "exception": false,
     "start_time": "2020-01-28T11:34:42.500180",
     "status": "completed"
    },
    "run_control": {
     "marked": false
    },
    "tags": []
   },
   "outputs": [],
   "source": [
    "style_path = 'images/lines.jpg'"
   ]
  },
  {
   "cell_type": "code",
   "execution_count": 4,
   "metadata": {
    "ExecuteTime": {
     "end_time": "2020-01-27T17:59:58.134477Z",
     "start_time": "2020-01-27T17:59:51.139673Z"
    },
    "papermill": {
     "duration": 4.216247,
     "end_time": "2020-01-28T11:34:46.772281",
     "exception": false,
     "start_time": "2020-01-28T11:34:42.556034",
     "status": "completed"
    },
    "run_control": {
     "marked": false
    },
    "tags": []
   },
   "outputs": [],
   "source": [
    "import tensorflow as tf"
   ]
  },
  {
   "cell_type": "code",
   "execution_count": 5,
   "metadata": {
    "ExecuteTime": {
     "end_time": "2020-01-27T17:59:58.386317Z",
     "start_time": "2020-01-27T17:59:58.136470Z"
    },
    "papermill": {
     "duration": 0.18629,
     "end_time": "2020-01-28T11:34:46.983504",
     "exception": false,
     "start_time": "2020-01-28T11:34:46.797214",
     "status": "completed"
    },
    "run_control": {
     "marked": false
    },
    "tags": []
   },
   "outputs": [],
   "source": [
    "import functools\n",
    "import time\n",
    "\n",
    "import IPython.display as display\n",
    "import matplotlib as mpl\n",
    "import matplotlib.pyplot as plt\n",
    "import numpy as np\n",
    "import PIL.Image\n",
    "\n",
    "mpl.rcParams['figure.figsize'] = (12, 12)\n",
    "mpl.rcParams['axes.grid'] = False"
   ]
  },
  {
   "cell_type": "code",
   "execution_count": 6,
   "metadata": {
    "ExecuteTime": {
     "end_time": "2020-01-27T17:59:58.395295Z",
     "start_time": "2020-01-27T17:59:58.388312Z"
    },
    "papermill": {
     "duration": 0.036346,
     "end_time": "2020-01-28T11:34:47.045712",
     "exception": false,
     "start_time": "2020-01-28T11:34:47.009366",
     "status": "completed"
    },
    "run_control": {
     "marked": false
    },
    "tags": []
   },
   "outputs": [],
   "source": [
    "def tensor_to_image(tensor):\n",
    "    tensor = tensor * 255\n",
    "    tensor = np.array(tensor, dtype=np.uint8)\n",
    "    if np.ndim(tensor) > 3:\n",
    "        assert tensor.shape[0] == 1\n",
    "        tensor = tensor[0]\n",
    "    return PIL.Image.fromarray(tensor)"
   ]
  },
  {
   "cell_type": "code",
   "execution_count": 7,
   "metadata": {
    "ExecuteTime": {
     "end_time": "2020-01-27T17:59:58.416748Z",
     "start_time": "2020-01-27T17:59:58.408820Z"
    },
    "papermill": {
     "duration": 0.038238,
     "end_time": "2020-01-28T11:34:47.104958",
     "exception": false,
     "start_time": "2020-01-28T11:34:47.066720",
     "status": "completed"
    },
    "run_control": {
     "marked": false
    },
    "tags": []
   },
   "outputs": [],
   "source": [
    "def load_img(path_to_img):\n",
    "    max_dim = 512\n",
    "    img = tf.io.read_file(path_to_img)\n",
    "    img = tf.image.decode_image(img, channels=3)\n",
    "    img = tf.image.convert_image_dtype(img, tf.float32)\n",
    "\n",
    "    shape = tf.cast(tf.shape(img)[:-1], tf.float32)\n",
    "    long_dim = max(shape)\n",
    "    scale = max_dim / long_dim\n",
    "\n",
    "    new_shape = tf.cast(shape * scale, tf.int32)\n",
    "\n",
    "    img = tf.image.resize(img, new_shape)\n",
    "    img = img[tf.newaxis, :]\n",
    "    return img"
   ]
  },
  {
   "cell_type": "code",
   "execution_count": 8,
   "metadata": {
    "ExecuteTime": {
     "end_time": "2020-01-27T17:59:58.425724Z",
     "start_time": "2020-01-27T17:59:58.419741Z"
    },
    "papermill": {
     "duration": 0.034906,
     "end_time": "2020-01-28T11:34:47.165867",
     "exception": false,
     "start_time": "2020-01-28T11:34:47.130961",
     "status": "completed"
    },
    "run_control": {
     "marked": false
    },
    "tags": []
   },
   "outputs": [],
   "source": [
    "def imshow(image, title=None):\n",
    "    if len(image.shape) > 3:\n",
    "        image = tf.squeeze(image, axis=0)\n",
    "\n",
    "    plt.imshow(image)\n",
    "    if title:\n",
    "        plt.title(title)"
   ]
  },
  {
   "cell_type": "code",
   "execution_count": 9,
   "metadata": {
    "ExecuteTime": {
     "end_time": "2020-01-27T18:00:00.619834Z",
     "start_time": "2020-01-27T17:59:58.427719Z"
    },
    "papermill": {
     "duration": 1.304125,
     "end_time": "2020-01-28T11:34:48.492931",
     "exception": false,
     "start_time": "2020-01-28T11:34:47.188806",
     "status": "completed"
    },
    "run_control": {
     "marked": false
    },
    "tags": []
   },
   "outputs": [],
   "source": [
    "content_image = load_img(content_path)\n",
    "style_image = load_img(style_path)\n",
    "\n",
    "# plt.subplot(1, 2, 1)\n",
    "# imshow(content_image, 'Content Image')\n",
    "\n",
    "# plt.subplot(1, 2, 2)\n",
    "# imshow(style_image, 'Style Image')"
   ]
  },
  {
   "cell_type": "code",
   "execution_count": 10,
   "metadata": {
    "ExecuteTime": {
     "end_time": "2020-01-27T18:00:06.669416Z",
     "start_time": "2020-01-27T18:00:00.624818Z"
    },
    "papermill": {
     "duration": 5.228797,
     "end_time": "2020-01-28T11:34:53.744680",
     "exception": false,
     "start_time": "2020-01-28T11:34:48.515883",
     "status": "completed"
    },
    "run_control": {
     "marked": false
    },
    "tags": []
   },
   "outputs": [
    {
     "data": {
      "text/plain": [
       "TensorShape([1, 1000])"
      ]
     },
     "execution_count": 10,
     "metadata": {},
     "output_type": "execute_result"
    }
   ],
   "source": [
    "x = tf.keras.applications.vgg19.preprocess_input(content_image * 255)\n",
    "x = tf.image.resize(x, (224, 224))\n",
    "vgg = tf.keras.applications.VGG19(include_top=True, weights='imagenet')\n",
    "prediction_probabilities = vgg(x)\n",
    "prediction_probabilities.shape"
   ]
  },
  {
   "cell_type": "code",
   "execution_count": 11,
   "metadata": {
    "ExecuteTime": {
     "end_time": "2020-01-27T18:00:06.686368Z",
     "start_time": "2020-01-27T18:00:06.672406Z"
    },
    "papermill": {
     "duration": 0.030857,
     "end_time": "2020-01-28T11:34:53.800338",
     "exception": false,
     "start_time": "2020-01-28T11:34:53.769481",
     "status": "completed"
    },
    "run_control": {
     "marked": false
    },
    "tags": []
   },
   "outputs": [],
   "source": [
    "# predicted_top_5 = tf.keras.applications.vgg19.decode_predictions(\n",
    "#     prediction_probabilities.numpy())[0]\n",
    "# [(class_name, prob) for (number, class_name, prob) in predicted_top_5]"
   ]
  },
  {
   "cell_type": "code",
   "execution_count": 12,
   "metadata": {
    "ExecuteTime": {
     "end_time": "2020-01-27T18:00:07.374879Z",
     "start_time": "2020-01-27T18:00:06.690357Z"
    },
    "papermill": {
     "duration": 0.604052,
     "end_time": "2020-01-28T11:34:54.427201",
     "exception": false,
     "start_time": "2020-01-28T11:34:53.823149",
     "status": "completed"
    },
    "run_control": {
     "marked": false
    },
    "tags": []
   },
   "outputs": [],
   "source": [
    "vgg = tf.keras.applications.VGG19(include_top=False, weights='imagenet')\n",
    "\n",
    "# print()\n",
    "# for layer in vgg.layers:\n",
    "#     print(layer.name)"
   ]
  },
  {
   "cell_type": "code",
   "execution_count": 13,
   "metadata": {
    "ExecuteTime": {
     "end_time": "2020-01-27T18:00:07.384849Z",
     "start_time": "2020-01-27T18:00:07.377867Z"
    },
    "papermill": {
     "duration": 0.030917,
     "end_time": "2020-01-28T11:34:54.482055",
     "exception": false,
     "start_time": "2020-01-28T11:34:54.451138",
     "status": "completed"
    },
    "run_control": {
     "marked": false
    },
    "tags": []
   },
   "outputs": [],
   "source": [
    "# Content layer where will pull our feature maps\n",
    "content_layers = ['block5_conv2']\n",
    "\n",
    "# Style layer of interest\n",
    "style_layers = [\n",
    "    'block1_conv1', 'block2_conv1', 'block3_conv1', 'block4_conv1',\n",
    "    'block5_conv1'\n",
    "]\n",
    "\n",
    "num_content_layers = len(content_layers)\n",
    "num_style_layers = len(style_layers)"
   ]
  },
  {
   "cell_type": "code",
   "execution_count": 14,
   "metadata": {
    "ExecuteTime": {
     "end_time": "2020-01-27T18:00:07.400621Z",
     "start_time": "2020-01-27T18:00:07.388140Z"
    },
    "papermill": {
     "duration": 0.031915,
     "end_time": "2020-01-28T11:34:54.536908",
     "exception": false,
     "start_time": "2020-01-28T11:34:54.504993",
     "status": "completed"
    },
    "run_control": {
     "marked": false
    },
    "tags": []
   },
   "outputs": [],
   "source": [
    "def vgg_layers(layer_names):\n",
    "    \"\"\" Creates a vgg model that returns a list of intermediate output values.\"\"\"\n",
    "    # Load our model. Load pretrained VGG, trained on imagenet data\n",
    "    vgg = tf.keras.applications.VGG19(include_top=False, weights='imagenet')\n",
    "    vgg.trainable = False\n",
    "\n",
    "    outputs = [vgg.get_layer(name).output for name in layer_names]\n",
    "\n",
    "    model = tf.keras.Model([vgg.input], outputs)\n",
    "    return model"
   ]
  },
  {
   "cell_type": "code",
   "execution_count": 15,
   "metadata": {
    "ExecuteTime": {
     "end_time": "2020-01-27T18:00:10.070819Z",
     "start_time": "2020-01-27T18:00:07.403611Z"
    },
    "papermill": {
     "duration": 1.657245,
     "end_time": "2020-01-28T11:34:56.218357",
     "exception": false,
     "start_time": "2020-01-28T11:34:54.561112",
     "status": "completed"
    },
    "run_control": {
     "marked": false
    },
    "tags": []
   },
   "outputs": [],
   "source": [
    "style_extractor = vgg_layers(style_layers)\n",
    "style_outputs = style_extractor(style_image * 255)\n",
    "\n",
    "# #Look at the statistics of each layer's output\n",
    "# for name, output in zip(style_layers, style_outputs):\n",
    "#     print(name)\n",
    "#     print(\"  shape: \", output.numpy().shape)\n",
    "#     print(\"  min: \", output.numpy().min())\n",
    "#     print(\"  max: \", output.numpy().max())\n",
    "#     print(\"  mean: \", output.numpy().mean())\n",
    "#     print()"
   ]
  },
  {
   "cell_type": "code",
   "execution_count": 16,
   "metadata": {
    "ExecuteTime": {
     "end_time": "2020-01-27T18:00:10.081789Z",
     "start_time": "2020-01-27T18:00:10.073813Z"
    },
    "papermill": {
     "duration": 0.038596,
     "end_time": "2020-01-28T11:34:56.283238",
     "exception": false,
     "start_time": "2020-01-28T11:34:56.244642",
     "status": "completed"
    },
    "run_control": {
     "marked": false
    },
    "tags": []
   },
   "outputs": [],
   "source": [
    "def gram_matrix(input_tensor):\n",
    "    result = tf.linalg.einsum('bijc,bijd->bcd', input_tensor, input_tensor)\n",
    "    input_shape = tf.shape(input_tensor)\n",
    "    num_locations = tf.cast(input_shape[1] * input_shape[2], tf.float32)\n",
    "    return result / (num_locations)"
   ]
  },
  {
   "cell_type": "code",
   "execution_count": 17,
   "metadata": {
    "ExecuteTime": {
     "end_time": "2020-01-27T18:00:10.102248Z",
     "start_time": "2020-01-27T18:00:10.084296Z"
    },
    "papermill": {
     "duration": 0.038392,
     "end_time": "2020-01-28T11:34:56.345562",
     "exception": false,
     "start_time": "2020-01-28T11:34:56.307170",
     "status": "completed"
    },
    "run_control": {
     "marked": false
    },
    "tags": []
   },
   "outputs": [],
   "source": [
    "class StyleContentModel(tf.keras.models.Model):\n",
    "    def __init__(self, style_layers, content_layers):\n",
    "        super(StyleContentModel, self).__init__()\n",
    "        self.vgg = vgg_layers(style_layers + content_layers)\n",
    "        self.style_layers = style_layers\n",
    "        self.content_layers = content_layers\n",
    "        self.num_style_layers = len(style_layers)\n",
    "        self.vgg.trainable = False\n",
    "\n",
    "    def call(self, inputs):\n",
    "        \"Expects float input in [0,1]\"\n",
    "        inputs = inputs * 255.0\n",
    "        preprocessed_input = tf.keras.applications.vgg19.preprocess_input(\n",
    "            inputs)\n",
    "        outputs = self.vgg(preprocessed_input)\n",
    "        style_outputs, content_outputs = (outputs[:self.num_style_layers],\n",
    "                                          outputs[self.num_style_layers:])\n",
    "\n",
    "        style_outputs = [\n",
    "            gram_matrix(style_output) for style_output in style_outputs\n",
    "        ]\n",
    "\n",
    "        content_dict = {\n",
    "            content_name: value\n",
    "            for content_name, value in zip(self.content_layers,\n",
    "                                           content_outputs)\n",
    "        }\n",
    "\n",
    "        style_dict = {\n",
    "            style_name: value\n",
    "            for style_name, value in zip(self.style_layers, style_outputs)\n",
    "        }\n",
    "\n",
    "        return {'content': content_dict, 'style': style_dict}"
   ]
  },
  {
   "cell_type": "code",
   "execution_count": 18,
   "metadata": {
    "ExecuteTime": {
     "end_time": "2020-01-27T18:00:11.789838Z",
     "start_time": "2020-01-27T18:00:10.105239Z"
    },
    "papermill": {
     "duration": 1.467052,
     "end_time": "2020-01-28T11:34:57.836834",
     "exception": false,
     "start_time": "2020-01-28T11:34:56.369782",
     "status": "completed"
    },
    "run_control": {
     "marked": false
    },
    "tags": []
   },
   "outputs": [],
   "source": [
    "extractor = StyleContentModel(style_layers, content_layers)\n",
    "\n",
    "results = extractor(tf.constant(content_image))\n",
    "\n",
    "style_results = results['style']\n",
    "\n",
    "# print('Styles:')\n",
    "# for name, output in sorted(results['style'].items()):\n",
    "#     print(\"  \", name)\n",
    "#     print(\"    shape: \", output.numpy().shape)\n",
    "#     print(\"    min: \", output.numpy().min())\n",
    "#     print(\"    max: \", output.numpy().max())\n",
    "#     print(\"    mean: \", output.numpy().mean())\n",
    "#     print()\n",
    "\n",
    "# print(\"Contents:\")\n",
    "# for name, output in sorted(results['content'].items()):\n",
    "#     print(\"  \", name)\n",
    "#     print(\"    shape: \", output.numpy().shape)\n",
    "#     print(\"    min: \", output.numpy().min())\n",
    "#     print(\"    max: \", output.numpy().max())\n",
    "#     print(\"    mean: \", output.numpy().mean())"
   ]
  },
  {
   "cell_type": "code",
   "execution_count": 19,
   "metadata": {
    "ExecuteTime": {
     "end_time": "2020-01-27T18:00:11.875007Z",
     "start_time": "2020-01-27T18:00:11.792830Z"
    },
    "papermill": {
     "duration": 0.097923,
     "end_time": "2020-01-28T11:34:57.964330",
     "exception": false,
     "start_time": "2020-01-28T11:34:57.866407",
     "status": "completed"
    },
    "run_control": {
     "marked": false
    },
    "tags": []
   },
   "outputs": [],
   "source": [
    "style_targets = extractor(style_image)['style']\n",
    "content_targets = extractor(content_image)['content']"
   ]
  },
  {
   "cell_type": "code",
   "execution_count": 20,
   "metadata": {
    "ExecuteTime": {
     "end_time": "2020-01-27T18:00:11.885975Z",
     "start_time": "2020-01-27T18:00:11.876998Z"
    },
    "papermill": {
     "duration": 0.034924,
     "end_time": "2020-01-28T11:34:58.024537",
     "exception": false,
     "start_time": "2020-01-28T11:34:57.989613",
     "status": "completed"
    },
    "run_control": {
     "marked": false
    },
    "tags": []
   },
   "outputs": [],
   "source": [
    "image = tf.Variable(content_image)"
   ]
  },
  {
   "cell_type": "code",
   "execution_count": 21,
   "metadata": {
    "ExecuteTime": {
     "end_time": "2020-01-27T18:00:11.893954Z",
     "start_time": "2020-01-27T18:00:11.888967Z"
    },
    "papermill": {
     "duration": 0.031103,
     "end_time": "2020-01-28T11:34:58.077582",
     "exception": false,
     "start_time": "2020-01-28T11:34:58.046479",
     "status": "completed"
    },
    "run_control": {
     "marked": false
    },
    "tags": []
   },
   "outputs": [],
   "source": [
    "def clip_0_1(image):\n",
    "    return tf.clip_by_value(image, clip_value_min=0.0, clip_value_max=1.0)"
   ]
  },
  {
   "cell_type": "code",
   "execution_count": 22,
   "metadata": {
    "ExecuteTime": {
     "end_time": "2020-01-27T18:00:11.902932Z",
     "start_time": "2020-01-27T18:00:11.896946Z"
    },
    "papermill": {
     "duration": 0.031129,
     "end_time": "2020-01-28T11:34:58.133041",
     "exception": false,
     "start_time": "2020-01-28T11:34:58.101912",
     "status": "completed"
    },
    "run_control": {
     "marked": false
    },
    "tags": []
   },
   "outputs": [],
   "source": [
    "style_weight = 1e-2\n",
    "content_weight = 1e4"
   ]
  },
  {
   "cell_type": "code",
   "execution_count": 23,
   "metadata": {
    "ExecuteTime": {
     "end_time": "2020-01-27T18:00:11.914900Z",
     "start_time": "2020-01-27T18:00:11.905924Z"
    },
    "papermill": {
     "duration": 0.034323,
     "end_time": "2020-01-28T11:34:58.190302",
     "exception": false,
     "start_time": "2020-01-28T11:34:58.155979",
     "status": "completed"
    },
    "run_control": {
     "marked": false
    },
    "tags": []
   },
   "outputs": [],
   "source": [
    "def style_content_loss(outputs):\n",
    "    style_outputs = outputs['style']\n",
    "    content_outputs = outputs['content']\n",
    "    style_loss = tf.add_n([\n",
    "        tf.reduce_mean((style_outputs[name] - style_targets[name])**2)\n",
    "        for name in style_outputs.keys()\n",
    "    ])\n",
    "    style_loss *= style_weight / num_style_layers\n",
    "\n",
    "    content_loss = tf.add_n([\n",
    "        tf.reduce_mean((content_outputs[name] - content_targets[name])**2)\n",
    "        for name in content_outputs.keys()\n",
    "    ])\n",
    "    content_loss *= content_weight / num_content_layers\n",
    "    loss = style_loss + content_loss\n",
    "    return loss"
   ]
  },
  {
   "cell_type": "code",
   "execution_count": 24,
   "metadata": {
    "ExecuteTime": {
     "end_time": "2020-01-27T18:00:11.923878Z",
     "start_time": "2020-01-27T18:00:11.917891Z"
    },
    "papermill": {
     "duration": 0.031828,
     "end_time": "2020-01-28T11:34:58.247043",
     "exception": false,
     "start_time": "2020-01-28T11:34:58.215215",
     "status": "completed"
    },
    "run_control": {
     "marked": false
    },
    "tags": []
   },
   "outputs": [],
   "source": [
    "opt = tf.optimizers.Adam(learning_rate=0.02, beta_1=0.99, epsilon=1e-1)"
   ]
  },
  {
   "cell_type": "code",
   "execution_count": 25,
   "metadata": {
    "ExecuteTime": {
     "end_time": "2020-01-27T18:00:11.935844Z",
     "start_time": "2020-01-27T18:00:11.929857Z"
    },
    "papermill": {
     "duration": 0.035762,
     "end_time": "2020-01-28T11:34:58.305748",
     "exception": false,
     "start_time": "2020-01-28T11:34:58.269986",
     "status": "completed"
    },
    "run_control": {
     "marked": false
    },
    "tags": []
   },
   "outputs": [],
   "source": [
    "@tf.function()\n",
    "def train_step(image):\n",
    "    with tf.GradientTape() as tape:\n",
    "        outputs = extractor(image)\n",
    "        loss = style_content_loss(outputs)\n",
    "\n",
    "    grad = tape.gradient(loss, image)\n",
    "    opt.apply_gradients([(grad, image)])\n",
    "    image.assign(clip_0_1(image))"
   ]
  },
  {
   "cell_type": "code",
   "execution_count": 26,
   "metadata": {
    "ExecuteTime": {
     "end_time": "2020-01-27T18:00:15.895204Z",
     "start_time": "2020-01-27T18:00:11.939832Z"
    },
    "papermill": {
     "duration": 0.034616,
     "end_time": "2020-01-28T11:34:58.367015",
     "exception": false,
     "start_time": "2020-01-28T11:34:58.332399",
     "status": "completed"
    },
    "run_control": {
     "marked": false
    },
    "tags": []
   },
   "outputs": [],
   "source": [
    "# train_step(image)\n",
    "# train_step(image)\n",
    "# train_step(image)\n",
    "# tensor_to_image(image)"
   ]
  },
  {
   "cell_type": "code",
   "execution_count": 27,
   "metadata": {
    "ExecuteTime": {
     "end_time": "2020-01-27T18:00:58.028656Z",
     "start_time": "2020-01-27T18:00:15.897199Z"
    },
    "papermill": {
     "duration": 49.564406,
     "end_time": "2020-01-28T11:35:47.956356",
     "exception": false,
     "start_time": "2020-01-28T11:34:58.391950",
     "status": "completed"
    },
    "run_control": {
     "marked": false
    },
    "tags": []
   },
   "outputs": [],
   "source": [
    "import time\n",
    "\n",
    "# start = time.time()\n",
    "\n",
    "epochs = 10\n",
    "steps_per_epoch = 100\n",
    "\n",
    "step = 0\n",
    "for n in range(epochs):\n",
    "    for m in range(steps_per_epoch):\n",
    "        step += 1\n",
    "        train_step(image)\n",
    "#         print(\".\", end='')\n",
    "#     display.clear_output(wait=True)\n",
    "#     display.display(tensor_to_image(image))\n",
    "    \n",
    "#     print(\"Train step: {}\".format(step))\n",
    "tensor_to_image(image).save(f'outputs/{name_me}.jpg')\n",
    "# end = time.time()\n",
    "# print(\"Total time: {:.1f}\".format(end - start))"
   ]
  },
  {
   "cell_type": "code",
   "execution_count": null,
   "metadata": {
    "papermill": {
     "duration": 0.022833,
     "end_time": "2020-01-28T11:35:48.004122",
     "exception": false,
     "start_time": "2020-01-28T11:35:47.981289",
     "status": "completed"
    },
    "run_control": {
     "marked": false
    },
    "tags": []
   },
   "outputs": [],
   "source": []
  },
  {
   "cell_type": "code",
   "execution_count": 28,
   "metadata": {
    "papermill": {
     "duration": 0.337505,
     "end_time": "2020-01-28T11:35:48.364568",
     "exception": true,
     "start_time": "2020-01-28T11:35:48.027063",
     "status": "failed"
    },
    "run_control": {
     "marked": false
    },
    "tags": []
   },
   "outputs": [
    {
     "ename": "NameError",
     "evalue": "name 'size' is not defined",
     "output_type": "error",
     "traceback": [
      "\u001b[1;31m---------------------------------------------------------------------------\u001b[0m",
      "\u001b[1;31mNameError\u001b[0m                                 Traceback (most recent call last)",
      "\u001b[1;32m<ipython-input-28-77cc581ea6d3>\u001b[0m in \u001b[0;36m<module>\u001b[1;34m\u001b[0m\n\u001b[0;32m     14\u001b[0m         \u001b[1;32mpass\u001b[0m\u001b[1;33m\u001b[0m\u001b[1;33m\u001b[0m\u001b[0m\n\u001b[0;32m     15\u001b[0m \u001b[1;33m\u001b[0m\u001b[0m\n\u001b[1;32m---> 16\u001b[1;33m \u001b[0mout\u001b[0m \u001b[1;33m=\u001b[0m \u001b[0mcv2\u001b[0m\u001b[1;33m.\u001b[0m\u001b[0mVideoWriter\u001b[0m\u001b[1;33m(\u001b[0m\u001b[1;34m'nnBrook.avi'\u001b[0m\u001b[1;33m,\u001b[0m \u001b[0mcv2\u001b[0m\u001b[1;33m.\u001b[0m\u001b[0mVideoWriter_fourcc\u001b[0m\u001b[1;33m(\u001b[0m\u001b[1;33m*\u001b[0m\u001b[1;34m'DIVX'\u001b[0m\u001b[1;33m)\u001b[0m\u001b[1;33m,\u001b[0m \u001b[1;36m15\u001b[0m\u001b[1;33m,\u001b[0m \u001b[0msize\u001b[0m\u001b[1;33m)\u001b[0m\u001b[1;33m\u001b[0m\u001b[1;33m\u001b[0m\u001b[0m\n\u001b[0m\u001b[0;32m     17\u001b[0m \u001b[1;33m\u001b[0m\u001b[0m\n\u001b[0;32m     18\u001b[0m \u001b[1;32mfor\u001b[0m \u001b[0mi\u001b[0m \u001b[1;32min\u001b[0m \u001b[0mrange\u001b[0m\u001b[1;33m(\u001b[0m\u001b[0mlen\u001b[0m\u001b[1;33m(\u001b[0m\u001b[0mimg_array\u001b[0m\u001b[1;33m)\u001b[0m\u001b[1;33m)\u001b[0m\u001b[1;33m:\u001b[0m\u001b[1;33m\u001b[0m\u001b[1;33m\u001b[0m\u001b[0m\n",
      "\u001b[1;31mNameError\u001b[0m: name 'size' is not defined"
     ]
    }
   ],
   "source": [
    "import glob\n",
    "\n",
    "import cv2\n",
    "import numpy as np\n",
    "\n",
    "img_array = []\n",
    "for filename in glob.glob('outputs/'):\n",
    "    try:\n",
    "        img = cv2.imread(filename)\n",
    "        height, width, layers = img.shape\n",
    "        size = (width, height)\n",
    "        img_array.append(img)\n",
    "    except:\n",
    "        pass\n",
    "\n",
    "out = cv2.VideoWriter('nnBrook.avi', cv2.VideoWriter_fourcc(*'DIVX'), 15, size)\n",
    "\n",
    "for i in range(len(img_array)):\n",
    "    out.write(img_array[i])\n",
    "out.release()"
   ]
  },
  {
   "cell_type": "code",
   "execution_count": null,
   "metadata": {
    "papermill": {
     "duration": null,
     "end_time": null,
     "exception": null,
     "start_time": null,
     "status": "pending"
    },
    "run_control": {
     "marked": false
    },
    "tags": []
   },
   "outputs": [],
   "source": []
  },
  {
   "cell_type": "code",
   "execution_count": null,
   "metadata": {
    "papermill": {
     "duration": null,
     "end_time": null,
     "exception": null,
     "start_time": null,
     "status": "pending"
    },
    "run_control": {
     "marked": false
    },
    "tags": []
   },
   "outputs": [],
   "source": []
  },
  {
   "cell_type": "code",
   "execution_count": null,
   "metadata": {
    "papermill": {
     "duration": null,
     "end_time": null,
     "exception": null,
     "start_time": null,
     "status": "pending"
    },
    "run_control": {
     "marked": false
    },
    "tags": []
   },
   "outputs": [],
   "source": []
  },
  {
   "cell_type": "code",
   "execution_count": null,
   "metadata": {
    "papermill": {
     "duration": null,
     "end_time": null,
     "exception": null,
     "start_time": null,
     "status": "pending"
    },
    "run_control": {
     "marked": false
    },
    "tags": []
   },
   "outputs": [],
   "source": []
  }
 ],
 "metadata": {
  "celltoolbar": "Tags",
  "kernelspec": {
   "display_name": "Python 3",
   "language": "python",
   "name": "python3"
  },
  "language_info": {
   "codemirror_mode": {
    "name": "ipython",
    "version": 3
   },
   "file_extension": ".py",
   "mimetype": "text/x-python",
   "name": "python",
   "nbconvert_exporter": "python",
   "pygments_lexer": "ipython3",
   "version": "3.7.6"
  },
  "papermill": {
   "duration": 69.198353,
   "end_time": "2020-01-28T11:35:50.274447",
   "environment_variables": {},
   "exception": true,
   "input_path": "new.ipynb",
   "output_path": "outputs/temp.ipynb",
   "parameters": {
    "content_path": "movie/146.jpg",
    "name_me": "146"
   },
   "start_time": "2020-01-28T11:34:41.076094",
   "version": "1.2.1"
  },
  "toc": {
   "base_numbering": 1,
   "nav_menu": {},
   "number_sections": true,
   "sideBar": true,
   "skip_h1_title": false,
   "title_cell": "Table of Contents",
   "title_sidebar": "Contents",
   "toc_cell": false,
   "toc_position": {},
   "toc_section_display": true,
   "toc_window_display": false
  }
 },
 "nbformat": 4,
 "nbformat_minor": 2
}