{
 "cells": [
  {
   "cell_type": "code",
   "execution_count": 1,
   "metadata": {
    "ExecuteTime": {
     "end_time": "2020-01-28T10:05:23.155676Z",
     "start_time": "2020-01-28T10:05:22.399126Z"
    }
   },
   "outputs": [],
   "source": [
    "import papermill as pm"
   ]
  },
  {
   "cell_type": "code",
   "execution_count": 4,
   "metadata": {
    "ExecuteTime": {
     "end_time": "2020-01-28T10:14:47.019112Z",
     "start_time": "2020-01-28T10:13:40.892525Z"
    }
   },
   "outputs": [
    {
     "data": {
      "application/vnd.jupyter.widget-view+json": {
       "model_id": "17de705d0b5b4d1dabb335d959513a18",
       "version_major": 2,
       "version_minor": 0
      },
      "text/plain": [
       "HBox(children=(FloatProgress(value=0.0, description='Executing', max=33.0, style=ProgressStyle(description_wid…"
      ]
     },
     "metadata": {},
     "output_type": "display_data"
    },
    {
     "name": "stdout",
     "output_type": "stream",
     "text": [
      "\n"
     ]
    },
    {
     "data": {
      "text/plain": [
       "{'cells': [{'cell_type': 'code',\n",
       "   'execution_count': 1,\n",
       "   'metadata': {'ExecuteTime': {'start_time': '2020-01-28T09:58:47.653Z'},\n",
       "    'run_control': {'marked': False},\n",
       "    'tags': ['parameters'],\n",
       "    'papermill': {'exception': False,\n",
       "     'start_time': '2020-01-28T10:13:42.322007',\n",
       "     'end_time': '2020-01-28T10:13:42.353843',\n",
       "     'duration': 0.031836,\n",
       "     'status': 'completed'}},\n",
       "   'outputs': [],\n",
       "   'source': \"content_path = 'images/trump.jpeg'\\nname_me = '0'\"},\n",
       "  {'cell_type': 'code',\n",
       "   'metadata': {'tags': ['injected-parameters'],\n",
       "    'papermill': {'exception': False,\n",
       "     'start_time': '2020-01-28T10:13:42.378136',\n",
       "     'end_time': '2020-01-28T10:13:42.410272',\n",
       "     'duration': 0.032136,\n",
       "     'status': 'completed'}},\n",
       "   'execution_count': 2,\n",
       "   'source': '# Parameters\\ncontent_path = \"movie/0.jpg\"\\nname_me = \"0\"\\n',\n",
       "   'outputs': []},\n",
       "  {'cell_type': 'code',\n",
       "   'execution_count': 3,\n",
       "   'metadata': {'ExecuteTime': {'end_time': '2020-01-28T10:05:42.378016Z',\n",
       "     'start_time': '2020-01-28T10:05:42.374026Z'},\n",
       "    'run_control': {'marked': False},\n",
       "    'tags': [],\n",
       "    'papermill': {'exception': False,\n",
       "     'start_time': '2020-01-28T10:13:42.434116',\n",
       "     'end_time': '2020-01-28T10:13:42.464006',\n",
       "     'duration': 0.02989,\n",
       "     'status': 'completed'}},\n",
       "   'outputs': [],\n",
       "   'source': \"style_path = 'images/lines.jpg'\"},\n",
       "  {'cell_type': 'code',\n",
       "   'execution_count': 4,\n",
       "   'metadata': {'ExecuteTime': {'end_time': '2020-01-27T17:59:58.134477Z',\n",
       "     'start_time': '2020-01-27T17:59:51.139673Z'},\n",
       "    'run_control': {'marked': False},\n",
       "    'tags': [],\n",
       "    'papermill': {'exception': False,\n",
       "     'start_time': '2020-01-28T10:13:42.488292',\n",
       "     'end_time': '2020-01-28T10:13:46.618460',\n",
       "     'duration': 4.130168,\n",
       "     'status': 'completed'}},\n",
       "   'outputs': [],\n",
       "   'source': 'import tensorflow as tf'},\n",
       "  {'cell_type': 'code',\n",
       "   'execution_count': 5,\n",
       "   'metadata': {'ExecuteTime': {'end_time': '2020-01-27T17:59:58.386317Z',\n",
       "     'start_time': '2020-01-27T17:59:58.136470Z'},\n",
       "    'run_control': {'marked': False},\n",
       "    'tags': [],\n",
       "    'papermill': {'exception': False,\n",
       "     'start_time': '2020-01-28T10:13:46.643099',\n",
       "     'end_time': '2020-01-28T10:13:46.814889',\n",
       "     'duration': 0.17179,\n",
       "     'status': 'completed'}},\n",
       "   'outputs': [],\n",
       "   'source': \"import functools\\nimport time\\n\\nimport IPython.display as display\\nimport matplotlib as mpl\\nimport matplotlib.pyplot as plt\\nimport numpy as np\\nimport PIL.Image\\n\\nmpl.rcParams['figure.figsize'] = (12, 12)\\nmpl.rcParams['axes.grid'] = False\"},\n",
       "  {'cell_type': 'code',\n",
       "   'execution_count': 6,\n",
       "   'metadata': {'ExecuteTime': {'end_time': '2020-01-27T17:59:58.395295Z',\n",
       "     'start_time': '2020-01-27T17:59:58.388312Z'},\n",
       "    'run_control': {'marked': False},\n",
       "    'tags': [],\n",
       "    'papermill': {'exception': False,\n",
       "     'start_time': '2020-01-28T10:13:46.839275',\n",
       "     'end_time': '2020-01-28T10:13:46.872777',\n",
       "     'duration': 0.033502,\n",
       "     'status': 'completed'}},\n",
       "   'outputs': [],\n",
       "   'source': 'def tensor_to_image(tensor):\\n    tensor = tensor * 255\\n    tensor = np.array(tensor, dtype=np.uint8)\\n    if np.ndim(tensor) > 3:\\n        assert tensor.shape[0] == 1\\n        tensor = tensor[0]\\n    return PIL.Image.fromarray(tensor)'},\n",
       "  {'cell_type': 'code',\n",
       "   'execution_count': 7,\n",
       "   'metadata': {'ExecuteTime': {'end_time': '2020-01-27T17:59:58.416748Z',\n",
       "     'start_time': '2020-01-27T17:59:58.408820Z'},\n",
       "    'run_control': {'marked': False},\n",
       "    'tags': [],\n",
       "    'papermill': {'exception': False,\n",
       "     'start_time': '2020-01-28T10:13:46.895714',\n",
       "     'end_time': '2020-01-28T10:13:46.929037',\n",
       "     'duration': 0.033323,\n",
       "     'status': 'completed'}},\n",
       "   'outputs': [],\n",
       "   'source': 'def load_img(path_to_img):\\n    max_dim = 512\\n    img = tf.io.read_file(path_to_img)\\n    img = tf.image.decode_image(img, channels=3)\\n    img = tf.image.convert_image_dtype(img, tf.float32)\\n\\n    shape = tf.cast(tf.shape(img)[:-1], tf.float32)\\n    long_dim = max(shape)\\n    scale = max_dim / long_dim\\n\\n    new_shape = tf.cast(shape * scale, tf.int32)\\n\\n    img = tf.image.resize(img, new_shape)\\n    img = img[tf.newaxis, :]\\n    return img'},\n",
       "  {'cell_type': 'code',\n",
       "   'execution_count': 8,\n",
       "   'metadata': {'ExecuteTime': {'end_time': '2020-01-27T17:59:58.425724Z',\n",
       "     'start_time': '2020-01-27T17:59:58.419741Z'},\n",
       "    'run_control': {'marked': False},\n",
       "    'tags': [],\n",
       "    'papermill': {'exception': False,\n",
       "     'start_time': '2020-01-28T10:13:46.952973',\n",
       "     'end_time': '2020-01-28T10:13:46.986883',\n",
       "     'duration': 0.03391,\n",
       "     'status': 'completed'}},\n",
       "   'outputs': [],\n",
       "   'source': 'def imshow(image, title=None):\\n    if len(image.shape) > 3:\\n        image = tf.squeeze(image, axis=0)\\n\\n    plt.imshow(image)\\n    if title:\\n        plt.title(title)'},\n",
       "  {'cell_type': 'code',\n",
       "   'execution_count': 9,\n",
       "   'metadata': {'ExecuteTime': {'end_time': '2020-01-27T18:00:00.619834Z',\n",
       "     'start_time': '2020-01-27T17:59:58.427719Z'},\n",
       "    'run_control': {'marked': False},\n",
       "    'tags': [],\n",
       "    'papermill': {'exception': False,\n",
       "     'start_time': '2020-01-28T10:13:47.009821',\n",
       "     'end_time': '2020-01-28T10:13:48.235753',\n",
       "     'duration': 1.225932,\n",
       "     'status': 'completed'}},\n",
       "   'outputs': [],\n",
       "   'source': \"content_image = load_img(content_path)\\nstyle_image = load_img(style_path)\\n\\n# plt.subplot(1, 2, 1)\\n# imshow(content_image, 'Content Image')\\n\\n# plt.subplot(1, 2, 2)\\n# imshow(style_image, 'Style Image')\"},\n",
       "  {'cell_type': 'code',\n",
       "   'execution_count': 10,\n",
       "   'metadata': {'ExecuteTime': {'end_time': '2020-01-27T18:00:06.669416Z',\n",
       "     'start_time': '2020-01-27T18:00:00.624818Z'},\n",
       "    'run_control': {'marked': False},\n",
       "    'tags': [],\n",
       "    'papermill': {'exception': False,\n",
       "     'start_time': '2020-01-28T10:13:48.258692',\n",
       "     'end_time': '2020-01-28T10:13:53.393139',\n",
       "     'duration': 5.134447,\n",
       "     'status': 'completed'}},\n",
       "   'outputs': [{'output_type': 'execute_result',\n",
       "     'metadata': {},\n",
       "     'data': {'text/plain': 'TensorShape([1, 1000])'},\n",
       "     'execution_count': 10}],\n",
       "   'source': \"x = tf.keras.applications.vgg19.preprocess_input(content_image * 255)\\nx = tf.image.resize(x, (224, 224))\\nvgg = tf.keras.applications.VGG19(include_top=True, weights='imagenet')\\nprediction_probabilities = vgg(x)\\nprediction_probabilities.shape\"},\n",
       "  {'cell_type': 'code',\n",
       "   'execution_count': 11,\n",
       "   'metadata': {'ExecuteTime': {'end_time': '2020-01-27T18:00:06.686368Z',\n",
       "     'start_time': '2020-01-27T18:00:06.672406Z'},\n",
       "    'run_control': {'marked': False},\n",
       "    'tags': [],\n",
       "    'papermill': {'exception': False,\n",
       "     'start_time': '2020-01-28T10:13:53.417963',\n",
       "     'end_time': '2020-01-28T10:13:53.450318',\n",
       "     'duration': 0.032355,\n",
       "     'status': 'completed'}},\n",
       "   'outputs': [],\n",
       "   'source': '# predicted_top_5 = tf.keras.applications.vgg19.decode_predictions(\\n#     prediction_probabilities.numpy())[0]\\n# [(class_name, prob) for (number, class_name, prob) in predicted_top_5]'},\n",
       "  {'cell_type': 'code',\n",
       "   'execution_count': 12,\n",
       "   'metadata': {'ExecuteTime': {'end_time': '2020-01-27T18:00:07.374879Z',\n",
       "     'start_time': '2020-01-27T18:00:06.690357Z'},\n",
       "    'run_control': {'marked': False},\n",
       "    'tags': [],\n",
       "    'papermill': {'exception': False,\n",
       "     'start_time': '2020-01-28T10:13:53.473127',\n",
       "     'end_time': '2020-01-28T10:13:54.046090',\n",
       "     'duration': 0.572963,\n",
       "     'status': 'completed'}},\n",
       "   'outputs': [],\n",
       "   'source': \"vgg = tf.keras.applications.VGG19(include_top=False, weights='imagenet')\\n\\n# print()\\n# for layer in vgg.layers:\\n#     print(layer.name)\"},\n",
       "  {'cell_type': 'code',\n",
       "   'execution_count': 13,\n",
       "   'metadata': {'ExecuteTime': {'end_time': '2020-01-27T18:00:07.384849Z',\n",
       "     'start_time': '2020-01-27T18:00:07.377867Z'},\n",
       "    'run_control': {'marked': False},\n",
       "    'tags': [],\n",
       "    'papermill': {'exception': False,\n",
       "     'start_time': '2020-01-28T10:13:54.069980',\n",
       "     'end_time': '2020-01-28T10:13:54.102329',\n",
       "     'duration': 0.032349,\n",
       "     'status': 'completed'}},\n",
       "   'outputs': [],\n",
       "   'source': \"# Content layer where will pull our feature maps\\ncontent_layers = ['block5_conv2']\\n\\n# Style layer of interest\\nstyle_layers = [\\n    'block1_conv1', 'block2_conv1', 'block3_conv1', 'block4_conv1',\\n    'block5_conv1'\\n]\\n\\nnum_content_layers = len(content_layers)\\nnum_style_layers = len(style_layers)\"},\n",
       "  {'cell_type': 'code',\n",
       "   'execution_count': 14,\n",
       "   'metadata': {'ExecuteTime': {'end_time': '2020-01-27T18:00:07.400621Z',\n",
       "     'start_time': '2020-01-27T18:00:07.388140Z'},\n",
       "    'run_control': {'marked': False},\n",
       "    'tags': [],\n",
       "    'papermill': {'exception': False,\n",
       "     'start_time': '2020-01-28T10:13:54.125750',\n",
       "     'end_time': '2020-01-28T10:13:54.159029',\n",
       "     'duration': 0.033279,\n",
       "     'status': 'completed'}},\n",
       "   'outputs': [],\n",
       "   'source': 'def vgg_layers(layer_names):\\n    \"\"\" Creates a vgg model that returns a list of intermediate output values.\"\"\"\\n    # Load our model. Load pretrained VGG, trained on imagenet data\\n    vgg = tf.keras.applications.VGG19(include_top=False, weights=\\'imagenet\\')\\n    vgg.trainable = False\\n\\n    outputs = [vgg.get_layer(name).output for name in layer_names]\\n\\n    model = tf.keras.Model([vgg.input], outputs)\\n    return model'},\n",
       "  {'cell_type': 'code',\n",
       "   'execution_count': 15,\n",
       "   'metadata': {'ExecuteTime': {'end_time': '2020-01-27T18:00:10.070819Z',\n",
       "     'start_time': '2020-01-27T18:00:07.403611Z'},\n",
       "    'run_control': {'marked': False},\n",
       "    'tags': [],\n",
       "    'papermill': {'exception': False,\n",
       "     'start_time': '2020-01-28T10:13:54.183921',\n",
       "     'end_time': '2020-01-28T10:13:55.768824',\n",
       "     'duration': 1.584903,\n",
       "     'status': 'completed'}},\n",
       "   'outputs': [],\n",
       "   'source': 'style_extractor = vgg_layers(style_layers)\\nstyle_outputs = style_extractor(style_image * 255)\\n\\n# #Look at the statistics of each layer\\'s output\\n# for name, output in zip(style_layers, style_outputs):\\n#     print(name)\\n#     print(\"  shape: \", output.numpy().shape)\\n#     print(\"  min: \", output.numpy().min())\\n#     print(\"  max: \", output.numpy().max())\\n#     print(\"  mean: \", output.numpy().mean())\\n#     print()'},\n",
       "  {'cell_type': 'code',\n",
       "   'execution_count': 16,\n",
       "   'metadata': {'ExecuteTime': {'end_time': '2020-01-27T18:00:10.081789Z',\n",
       "     'start_time': '2020-01-27T18:00:10.073813Z'},\n",
       "    'run_control': {'marked': False},\n",
       "    'tags': [],\n",
       "    'papermill': {'exception': False,\n",
       "     'start_time': '2020-01-28T10:13:55.794151',\n",
       "     'end_time': '2020-01-28T10:13:55.827957',\n",
       "     'duration': 0.033806,\n",
       "     'status': 'completed'}},\n",
       "   'outputs': [],\n",
       "   'source': \"def gram_matrix(input_tensor):\\n    result = tf.linalg.einsum('bijc,bijd->bcd', input_tensor, input_tensor)\\n    input_shape = tf.shape(input_tensor)\\n    num_locations = tf.cast(input_shape[1] * input_shape[2], tf.float32)\\n    return result / (num_locations)\"},\n",
       "  {'cell_type': 'code',\n",
       "   'execution_count': 17,\n",
       "   'metadata': {'ExecuteTime': {'end_time': '2020-01-27T18:00:10.102248Z',\n",
       "     'start_time': '2020-01-27T18:00:10.084296Z'},\n",
       "    'run_control': {'marked': False},\n",
       "    'tags': [],\n",
       "    'papermill': {'exception': False,\n",
       "     'start_time': '2020-01-28T10:13:55.851843',\n",
       "     'end_time': '2020-01-28T10:13:55.889125',\n",
       "     'duration': 0.037282,\n",
       "     'status': 'completed'}},\n",
       "   'outputs': [],\n",
       "   'source': 'class StyleContentModel(tf.keras.models.Model):\\n    def __init__(self, style_layers, content_layers):\\n        super(StyleContentModel, self).__init__()\\n        self.vgg = vgg_layers(style_layers + content_layers)\\n        self.style_layers = style_layers\\n        self.content_layers = content_layers\\n        self.num_style_layers = len(style_layers)\\n        self.vgg.trainable = False\\n\\n    def call(self, inputs):\\n        \"Expects float input in [0,1]\"\\n        inputs = inputs * 255.0\\n        preprocessed_input = tf.keras.applications.vgg19.preprocess_input(\\n            inputs)\\n        outputs = self.vgg(preprocessed_input)\\n        style_outputs, content_outputs = (outputs[:self.num_style_layers],\\n                                          outputs[self.num_style_layers:])\\n\\n        style_outputs = [\\n            gram_matrix(style_output) for style_output in style_outputs\\n        ]\\n\\n        content_dict = {\\n            content_name: value\\n            for content_name, value in zip(self.content_layers,\\n                                           content_outputs)\\n        }\\n\\n        style_dict = {\\n            style_name: value\\n            for style_name, value in zip(self.style_layers, style_outputs)\\n        }\\n\\n        return {\\'content\\': content_dict, \\'style\\': style_dict}'},\n",
       "  {'cell_type': 'code',\n",
       "   'execution_count': 18,\n",
       "   'metadata': {'ExecuteTime': {'end_time': '2020-01-27T18:00:11.789838Z',\n",
       "     'start_time': '2020-01-27T18:00:10.105239Z'},\n",
       "    'run_control': {'marked': False},\n",
       "    'tags': [],\n",
       "    'papermill': {'exception': False,\n",
       "     'start_time': '2020-01-28T10:13:55.914058',\n",
       "     'end_time': '2020-01-28T10:13:57.351201',\n",
       "     'duration': 1.437143,\n",
       "     'status': 'completed'}},\n",
       "   'outputs': [],\n",
       "   'source': 'extractor = StyleContentModel(style_layers, content_layers)\\n\\nresults = extractor(tf.constant(content_image))\\n\\nstyle_results = results[\\'style\\']\\n\\n# print(\\'Styles:\\')\\n# for name, output in sorted(results[\\'style\\'].items()):\\n#     print(\"  \", name)\\n#     print(\"    shape: \", output.numpy().shape)\\n#     print(\"    min: \", output.numpy().min())\\n#     print(\"    max: \", output.numpy().max())\\n#     print(\"    mean: \", output.numpy().mean())\\n#     print()\\n\\n# print(\"Contents:\")\\n# for name, output in sorted(results[\\'content\\'].items()):\\n#     print(\"  \", name)\\n#     print(\"    shape: \", output.numpy().shape)\\n#     print(\"    min: \", output.numpy().min())\\n#     print(\"    max: \", output.numpy().max())\\n#     print(\"    mean: \", output.numpy().mean())'},\n",
       "  {'cell_type': 'code',\n",
       "   'execution_count': 19,\n",
       "   'metadata': {'ExecuteTime': {'end_time': '2020-01-27T18:00:11.875007Z',\n",
       "     'start_time': '2020-01-27T18:00:11.792830Z'},\n",
       "    'run_control': {'marked': False},\n",
       "    'tags': [],\n",
       "    'papermill': {'exception': False,\n",
       "     'start_time': '2020-01-28T10:13:57.376481',\n",
       "     'end_time': '2020-01-28T10:13:57.470416',\n",
       "     'duration': 0.093935,\n",
       "     'status': 'completed'}},\n",
       "   'outputs': [],\n",
       "   'source': \"style_targets = extractor(style_image)['style']\\ncontent_targets = extractor(content_image)['content']\"},\n",
       "  {'cell_type': 'code',\n",
       "   'execution_count': 20,\n",
       "   'metadata': {'ExecuteTime': {'end_time': '2020-01-27T18:00:11.885975Z',\n",
       "     'start_time': '2020-01-27T18:00:11.876998Z'},\n",
       "    'run_control': {'marked': False},\n",
       "    'tags': [],\n",
       "    'papermill': {'exception': False,\n",
       "     'start_time': '2020-01-28T10:13:57.495154',\n",
       "     'end_time': '2020-01-28T10:13:57.531588',\n",
       "     'duration': 0.036434,\n",
       "     'status': 'completed'}},\n",
       "   'outputs': [],\n",
       "   'source': 'image = tf.Variable(content_image)'},\n",
       "  {'cell_type': 'code',\n",
       "   'execution_count': 21,\n",
       "   'metadata': {'ExecuteTime': {'end_time': '2020-01-27T18:00:11.893954Z',\n",
       "     'start_time': '2020-01-27T18:00:11.888967Z'},\n",
       "    'run_control': {'marked': False},\n",
       "    'tags': [],\n",
       "    'papermill': {'exception': False,\n",
       "     'start_time': '2020-01-28T10:13:57.553913',\n",
       "     'end_time': '2020-01-28T10:13:57.585072',\n",
       "     'duration': 0.031159,\n",
       "     'status': 'completed'}},\n",
       "   'outputs': [],\n",
       "   'source': 'def clip_0_1(image):\\n    return tf.clip_by_value(image, clip_value_min=0.0, clip_value_max=1.0)'},\n",
       "  {'cell_type': 'code',\n",
       "   'execution_count': 22,\n",
       "   'metadata': {'ExecuteTime': {'end_time': '2020-01-27T18:00:11.902932Z',\n",
       "     'start_time': '2020-01-27T18:00:11.896946Z'},\n",
       "    'run_control': {'marked': False},\n",
       "    'tags': [],\n",
       "    'papermill': {'exception': False,\n",
       "     'start_time': '2020-01-28T10:13:57.609000',\n",
       "     'end_time': '2020-01-28T10:13:57.641919',\n",
       "     'duration': 0.032919,\n",
       "     'status': 'completed'}},\n",
       "   'outputs': [],\n",
       "   'source': 'style_weight = 1e-2\\ncontent_weight = 1e4'},\n",
       "  {'cell_type': 'code',\n",
       "   'execution_count': 23,\n",
       "   'metadata': {'ExecuteTime': {'end_time': '2020-01-27T18:00:11.914900Z',\n",
       "     'start_time': '2020-01-27T18:00:11.905924Z'},\n",
       "    'run_control': {'marked': False},\n",
       "    'tags': [],\n",
       "    'papermill': {'exception': False,\n",
       "     'start_time': '2020-01-28T10:13:57.664102',\n",
       "     'end_time': '2020-01-28T10:13:57.707819',\n",
       "     'duration': 0.043717,\n",
       "     'status': 'completed'}},\n",
       "   'outputs': [],\n",
       "   'source': \"def style_content_loss(outputs):\\n    style_outputs = outputs['style']\\n    content_outputs = outputs['content']\\n    style_loss = tf.add_n([\\n        tf.reduce_mean((style_outputs[name] - style_targets[name])**2)\\n        for name in style_outputs.keys()\\n    ])\\n    style_loss *= style_weight / num_style_layers\\n\\n    content_loss = tf.add_n([\\n        tf.reduce_mean((content_outputs[name] - content_targets[name])**2)\\n        for name in content_outputs.keys()\\n    ])\\n    content_loss *= content_weight / num_content_layers\\n    loss = style_loss + content_loss\\n    return loss\"},\n",
       "  {'cell_type': 'code',\n",
       "   'execution_count': 24,\n",
       "   'metadata': {'ExecuteTime': {'end_time': '2020-01-27T18:00:11.923878Z',\n",
       "     'start_time': '2020-01-27T18:00:11.917891Z'},\n",
       "    'run_control': {'marked': False},\n",
       "    'tags': [],\n",
       "    'papermill': {'exception': False,\n",
       "     'start_time': '2020-01-28T10:13:57.732051',\n",
       "     'end_time': '2020-01-28T10:13:57.764691',\n",
       "     'duration': 0.03264,\n",
       "     'status': 'completed'}},\n",
       "   'outputs': [],\n",
       "   'source': 'opt = tf.optimizers.Adam(learning_rate=0.02, beta_1=0.99, epsilon=1e-1)'},\n",
       "  {'cell_type': 'code',\n",
       "   'execution_count': 25,\n",
       "   'metadata': {'ExecuteTime': {'end_time': '2020-01-27T18:00:11.935844Z',\n",
       "     'start_time': '2020-01-27T18:00:11.929857Z'},\n",
       "    'run_control': {'marked': False},\n",
       "    'tags': [],\n",
       "    'papermill': {'exception': False,\n",
       "     'start_time': '2020-01-28T10:13:57.789610',\n",
       "     'end_time': '2020-01-28T10:13:57.823013',\n",
       "     'duration': 0.033403,\n",
       "     'status': 'completed'}},\n",
       "   'outputs': [],\n",
       "   'source': '@tf.function()\\ndef train_step(image):\\n    with tf.GradientTape() as tape:\\n        outputs = extractor(image)\\n        loss = style_content_loss(outputs)\\n\\n    grad = tape.gradient(loss, image)\\n    opt.apply_gradients([(grad, image)])\\n    image.assign(clip_0_1(image))'},\n",
       "  {'cell_type': 'code',\n",
       "   'execution_count': 26,\n",
       "   'metadata': {'ExecuteTime': {'end_time': '2020-01-27T18:00:15.895204Z',\n",
       "     'start_time': '2020-01-27T18:00:11.939832Z'},\n",
       "    'run_control': {'marked': False},\n",
       "    'tags': [],\n",
       "    'papermill': {'exception': False,\n",
       "     'start_time': '2020-01-28T10:13:57.847947',\n",
       "     'end_time': '2020-01-28T10:13:57.879861',\n",
       "     'duration': 0.031914,\n",
       "     'status': 'completed'}},\n",
       "   'outputs': [],\n",
       "   'source': '# train_step(image)\\n# train_step(image)\\n# train_step(image)\\n# tensor_to_image(image)'},\n",
       "  {'cell_type': 'code',\n",
       "   'execution_count': 27,\n",
       "   'metadata': {'ExecuteTime': {'end_time': '2020-01-27T18:00:58.028656Z',\n",
       "     'start_time': '2020-01-27T18:00:15.897199Z'},\n",
       "    'run_control': {'marked': False},\n",
       "    'tags': [],\n",
       "    'papermill': {'exception': False,\n",
       "     'start_time': '2020-01-28T10:13:57.904118',\n",
       "     'end_time': '2020-01-28T10:14:44.751866',\n",
       "     'duration': 46.847748,\n",
       "     'status': 'completed'}},\n",
       "   'outputs': [],\n",
       "   'source': 'import time\\n\\n# start = time.time()\\n\\nepochs = 10\\nsteps_per_epoch = 100\\n\\nstep = 0\\nfor n in range(epochs):\\n    for m in range(steps_per_epoch):\\n        step += 1\\n        train_step(image)\\n#         print(\".\", end=\\'\\')\\n#     display.clear_output(wait=True)\\n#     display.display(tensor_to_image(image))\\n    \\n#     print(\"Train step: {}\".format(step))\\ntensor_to_image(image).save(f\\'outputs/{name_me}.jpg\\')\\n# end = time.time()\\n# print(\"Total time: {:.1f}\".format(end - start))'},\n",
       "  {'cell_type': 'code',\n",
       "   'execution_count': None,\n",
       "   'metadata': {'run_control': {'marked': False},\n",
       "    'tags': [],\n",
       "    'papermill': {'exception': False,\n",
       "     'start_time': '2020-01-28T10:14:44.775461',\n",
       "     'end_time': '2020-01-28T10:14:44.798042',\n",
       "     'duration': 0.022581,\n",
       "     'status': 'completed'}},\n",
       "   'outputs': [],\n",
       "   'source': ''},\n",
       "  {'cell_type': 'code',\n",
       "   'execution_count': None,\n",
       "   'metadata': {'run_control': {'marked': False},\n",
       "    'tags': [],\n",
       "    'papermill': {'exception': False,\n",
       "     'start_time': '2020-01-28T10:14:44.818865',\n",
       "     'end_time': '2020-01-28T10:14:44.840804',\n",
       "     'duration': 0.021939,\n",
       "     'status': 'completed'}},\n",
       "   'outputs': [],\n",
       "   'source': ''},\n",
       "  {'cell_type': 'code',\n",
       "   'execution_count': None,\n",
       "   'metadata': {'run_control': {'marked': False},\n",
       "    'tags': [],\n",
       "    'papermill': {'exception': False,\n",
       "     'start_time': '2020-01-28T10:14:44.862746',\n",
       "     'end_time': '2020-01-28T10:14:44.884687',\n",
       "     'duration': 0.021941,\n",
       "     'status': 'completed'}},\n",
       "   'outputs': [],\n",
       "   'source': ''},\n",
       "  {'cell_type': 'code',\n",
       "   'execution_count': None,\n",
       "   'metadata': {'run_control': {'marked': False},\n",
       "    'tags': [],\n",
       "    'papermill': {'exception': False,\n",
       "     'start_time': '2020-01-28T10:14:44.909030',\n",
       "     'end_time': '2020-01-28T10:14:44.931976',\n",
       "     'duration': 0.022946,\n",
       "     'status': 'completed'}},\n",
       "   'outputs': [],\n",
       "   'source': ''},\n",
       "  {'cell_type': 'code',\n",
       "   'execution_count': None,\n",
       "   'metadata': {'run_control': {'marked': False},\n",
       "    'tags': [],\n",
       "    'papermill': {'exception': False,\n",
       "     'start_time': '2020-01-28T10:14:44.952919',\n",
       "     'end_time': '2020-01-28T10:14:44.974860',\n",
       "     'duration': 0.021941,\n",
       "     'status': 'completed'}},\n",
       "   'outputs': [],\n",
       "   'source': ''},\n",
       "  {'cell_type': 'code',\n",
       "   'execution_count': None,\n",
       "   'metadata': {'run_control': {'marked': False},\n",
       "    'tags': [],\n",
       "    'papermill': {'exception': False,\n",
       "     'start_time': '2020-01-28T10:14:44.996695',\n",
       "     'end_time': '2020-01-28T10:14:45.017639',\n",
       "     'duration': 0.020944,\n",
       "     'status': 'completed'}},\n",
       "   'outputs': [],\n",
       "   'source': ''}],\n",
       " 'metadata': {'celltoolbar': 'Tags',\n",
       "  'kernelspec': {'display_name': 'Python 3',\n",
       "   'language': 'python',\n",
       "   'name': 'python3'},\n",
       "  'language_info': {'name': 'python',\n",
       "   'version': '3.7.6',\n",
       "   'mimetype': 'text/x-python',\n",
       "   'codemirror_mode': {'name': 'ipython', 'version': 3},\n",
       "   'pygments_lexer': 'ipython3',\n",
       "   'nbconvert_exporter': 'python',\n",
       "   'file_extension': '.py'},\n",
       "  'toc': {'base_numbering': 1,\n",
       "   'nav_menu': {},\n",
       "   'number_sections': True,\n",
       "   'sideBar': True,\n",
       "   'skip_h1_title': False,\n",
       "   'title_cell': 'Table of Contents',\n",
       "   'title_sidebar': 'Contents',\n",
       "   'toc_cell': False,\n",
       "   'toc_position': {},\n",
       "   'toc_section_display': True,\n",
       "   'toc_window_display': False},\n",
       "  'papermill': {'parameters': {'content_path': 'movie/0.jpg', 'name_me': '0'},\n",
       "   'environment_variables': {},\n",
       "   'version': '1.2.1',\n",
       "   'input_path': 'new.ipynb',\n",
       "   'output_path': 'outputs/temp.ipynb',\n",
       "   'start_time': '2020-01-28T10:13:40.976336',\n",
       "   'end_time': '2020-01-28T10:14:46.955282',\n",
       "   'duration': 65.978946,\n",
       "   'exception': None}},\n",
       " 'nbformat': 4,\n",
       " 'nbformat_minor': 2}"
      ]
     },
     "execution_count": 4,
     "metadata": {},
     "output_type": "execute_result"
    }
   ],
   "source": [
    "pm.execute_notebook(\n",
    "    'new.ipynb',\n",
    "    'outputs/temp.ipynb',\n",
    "   parameters=dict(content_path = 'movie/0.jpg',name_me='0')\n",
    ")"
   ]
  },
  {
   "cell_type": "code",
   "execution_count": 5,
   "metadata": {
    "ExecuteTime": {
     "end_time": "2020-01-28T10:15:11.802795Z",
     "start_time": "2020-01-28T10:15:11.798893Z"
    }
   },
   "outputs": [],
   "source": [
    "import os"
   ]
  },
  {
   "cell_type": "code",
   "execution_count": 7,
   "metadata": {
    "ExecuteTime": {
     "end_time": "2020-01-28T10:15:23.723777Z",
     "start_time": "2020-01-28T10:15:23.714091Z"
    }
   },
   "outputs": [
    {
     "data": {
      "text/plain": [
       "['0.jpg',\n",
       " '1.jpg',\n",
       " '10.jpg',\n",
       " '100.jpg',\n",
       " '101.jpg',\n",
       " '102.jpg',\n",
       " '103.jpg',\n",
       " '104.jpg',\n",
       " '105.jpg',\n",
       " '106.jpg',\n",
       " '107.jpg',\n",
       " '108.jpg',\n",
       " '109.jpg',\n",
       " '11.jpg',\n",
       " '110.jpg',\n",
       " '111.jpg',\n",
       " '112.jpg',\n",
       " '113.jpg',\n",
       " '114.jpg',\n",
       " '115.jpg',\n",
       " '116.jpg',\n",
       " '117.jpg',\n",
       " '118.jpg',\n",
       " '119.jpg',\n",
       " '12.jpg',\n",
       " '120.jpg',\n",
       " '121.jpg',\n",
       " '122.jpg',\n",
       " '123.jpg',\n",
       " '124.jpg',\n",
       " '125.jpg',\n",
       " '126.jpg',\n",
       " '127.jpg',\n",
       " '128.jpg',\n",
       " '129.jpg',\n",
       " '13.jpg',\n",
       " '130.jpg',\n",
       " '131.jpg',\n",
       " '132.jpg',\n",
       " '133.jpg',\n",
       " '134.jpg',\n",
       " '135.jpg',\n",
       " '136.jpg',\n",
       " '137.jpg',\n",
       " '138.jpg',\n",
       " '139.jpg',\n",
       " '14.jpg',\n",
       " '140.jpg',\n",
       " '141.jpg',\n",
       " '142.jpg',\n",
       " '143.jpg',\n",
       " '144.jpg',\n",
       " '145.jpg',\n",
       " '146.jpg',\n",
       " '147.jpg',\n",
       " '148.jpg',\n",
       " '149.jpg',\n",
       " '15.jpg',\n",
       " '16.jpg',\n",
       " '17.jpg',\n",
       " '18.jpg',\n",
       " '19.jpg',\n",
       " '2.jpg',\n",
       " '20.jpg',\n",
       " '21.jpg',\n",
       " '22.jpg',\n",
       " '23.jpg',\n",
       " '24.jpg',\n",
       " '25.jpg',\n",
       " '26.jpg',\n",
       " '27.jpg',\n",
       " '28.jpg',\n",
       " '29.jpg',\n",
       " '3.jpg',\n",
       " '30.jpg',\n",
       " '31.jpg',\n",
       " '32.jpg',\n",
       " '33.jpg',\n",
       " '34.jpg',\n",
       " '35.jpg',\n",
       " '36.jpg',\n",
       " '37.jpg',\n",
       " '38.jpg',\n",
       " '39.jpg',\n",
       " '4.jpg',\n",
       " '40.jpg',\n",
       " '41.jpg',\n",
       " '42.jpg',\n",
       " '43.jpg',\n",
       " '44.jpg',\n",
       " '45.jpg',\n",
       " '46.jpg',\n",
       " '47.jpg',\n",
       " '48.jpg',\n",
       " '49.jpg',\n",
       " '5.jpg',\n",
       " '50.jpg',\n",
       " '51.jpg',\n",
       " '52.jpg',\n",
       " '53.jpg',\n",
       " '54.jpg',\n",
       " '55.jpg',\n",
       " '56.jpg',\n",
       " '57.jpg',\n",
       " '58.jpg',\n",
       " '59.jpg',\n",
       " '6.jpg',\n",
       " '60.jpg',\n",
       " '61.jpg',\n",
       " '62.jpg',\n",
       " '63.jpg',\n",
       " '64.jpg',\n",
       " '65.jpg',\n",
       " '66.jpg',\n",
       " '67.jpg',\n",
       " '68.jpg',\n",
       " '69.jpg',\n",
       " '7.jpg',\n",
       " '70.jpg',\n",
       " '71.jpg',\n",
       " '72.jpg',\n",
       " '73.jpg',\n",
       " '74.jpg',\n",
       " '75.jpg',\n",
       " '76.jpg',\n",
       " '77.jpg',\n",
       " '78.jpg',\n",
       " '79.jpg',\n",
       " '8.jpg',\n",
       " '80.jpg',\n",
       " '81.jpg',\n",
       " '82.jpg',\n",
       " '83.jpg',\n",
       " '84.jpg',\n",
       " '85.jpg',\n",
       " '86.jpg',\n",
       " '87.jpg',\n",
       " '88.jpg',\n",
       " '89.jpg',\n",
       " '9.jpg',\n",
       " '90.jpg',\n",
       " '91.jpg',\n",
       " '92.jpg',\n",
       " '93.jpg',\n",
       " '94.jpg',\n",
       " '95.jpg',\n",
       " '96.jpg',\n",
       " '97.jpg',\n",
       " '98.jpg',\n",
       " '99.jpg']"
      ]
     },
     "execution_count": 7,
     "metadata": {},
     "output_type": "execute_result"
    }
   ],
   "source": [
    "imgs = os.listdir('movie/');imgs"
   ]
  },
  {
   "cell_type": "code",
   "execution_count": 9,
   "metadata": {
    "ExecuteTime": {
     "end_time": "2020-01-28T10:16:20.471249Z",
     "start_time": "2020-01-28T10:16:20.464232Z"
    }
   },
   "outputs": [
    {
     "data": {
      "text/plain": [
       "'111'"
      ]
     },
     "execution_count": 9,
     "metadata": {},
     "output_type": "execute_result"
    }
   ],
   "source": [
    "'111.jpg'[:-4]"
   ]
  },
  {
   "cell_type": "code",
   "execution_count": 10,
   "metadata": {
    "ExecuteTime": {
     "end_time": "2020-01-28T11:35:50.439841Z",
     "start_time": "2020-01-28T10:16:43.907782Z"
    },
    "scrolled": true
   },
   "outputs": [
    {
     "data": {
      "application/vnd.jupyter.widget-view+json": {
       "model_id": "75e58a1a9a08433e940a7b6e7b41e7b8",
       "version_major": 2,
       "version_minor": 0
      },
      "text/plain": [
       "HBox(children=(FloatProgress(value=0.0, description='Executing', max=33.0, style=ProgressStyle(description_wid…"
      ]
     },
     "metadata": {},
     "output_type": "display_data"
    },
    {
     "name": "stdout",
     "output_type": "stream",
     "text": [
      "\n",
      "Done - 0\n"
     ]
    },
    {
     "data": {
      "application/vnd.jupyter.widget-view+json": {
       "model_id": "d13f2ac704744b6b9cf11cd39a2b5766",
       "version_major": 2,
       "version_minor": 0
      },
      "text/plain": [
       "HBox(children=(FloatProgress(value=0.0, description='Executing', max=33.0, style=ProgressStyle(description_wid…"
      ]
     },
     "metadata": {},
     "output_type": "display_data"
    },
    {
     "name": "stdout",
     "output_type": "stream",
     "text": [
      "\n",
      "Done - 1\n"
     ]
    },
    {
     "data": {
      "application/vnd.jupyter.widget-view+json": {
       "model_id": "b0893a2685ab4b92a89eea445b39bfd8",
       "version_major": 2,
       "version_minor": 0
      },
      "text/plain": [
       "HBox(children=(FloatProgress(value=0.0, description='Executing', max=33.0, style=ProgressStyle(description_wid…"
      ]
     },
     "metadata": {},
     "output_type": "display_data"
    },
    {
     "name": "stdout",
     "output_type": "stream",
     "text": [
      "\n",
      "Done - 10\n"
     ]
    },
    {
     "data": {
      "application/vnd.jupyter.widget-view+json": {
       "model_id": "80b439c7c4dc4be4af596f92c5e88f67",
       "version_major": 2,
       "version_minor": 0
      },
      "text/plain": [
       "HBox(children=(FloatProgress(value=0.0, description='Executing', max=33.0, style=ProgressStyle(description_wid…"
      ]
     },
     "metadata": {},
     "output_type": "display_data"
    },
    {
     "name": "stdout",
     "output_type": "stream",
     "text": [
      "\n",
      "Done - 100\n"
     ]
    },
    {
     "data": {
      "application/vnd.jupyter.widget-view+json": {
       "model_id": "c7e4cf20a2e440928b2cab7c7401c3a3",
       "version_major": 2,
       "version_minor": 0
      },
      "text/plain": [
       "HBox(children=(FloatProgress(value=0.0, description='Executing', max=33.0, style=ProgressStyle(description_wid…"
      ]
     },
     "metadata": {},
     "output_type": "display_data"
    },
    {
     "name": "stdout",
     "output_type": "stream",
     "text": [
      "\n",
      "Done - 101\n"
     ]
    },
    {
     "data": {
      "application/vnd.jupyter.widget-view+json": {
       "model_id": "fe20649b4c0142c6aa753285eedac9fe",
       "version_major": 2,
       "version_minor": 0
      },
      "text/plain": [
       "HBox(children=(FloatProgress(value=0.0, description='Executing', max=33.0, style=ProgressStyle(description_wid…"
      ]
     },
     "metadata": {},
     "output_type": "display_data"
    },
    {
     "name": "stdout",
     "output_type": "stream",
     "text": [
      "\n",
      "Done - 102\n"
     ]
    },
    {
     "data": {
      "application/vnd.jupyter.widget-view+json": {
       "model_id": "15120248da2a407db1f3a22e7e41a1e8",
       "version_major": 2,
       "version_minor": 0
      },
      "text/plain": [
       "HBox(children=(FloatProgress(value=0.0, description='Executing', max=33.0, style=ProgressStyle(description_wid…"
      ]
     },
     "metadata": {},
     "output_type": "display_data"
    },
    {
     "name": "stdout",
     "output_type": "stream",
     "text": [
      "\n",
      "Done - 103\n"
     ]
    },
    {
     "data": {
      "application/vnd.jupyter.widget-view+json": {
       "model_id": "014392b324ec44628254231998fc4693",
       "version_major": 2,
       "version_minor": 0
      },
      "text/plain": [
       "HBox(children=(FloatProgress(value=0.0, description='Executing', max=33.0, style=ProgressStyle(description_wid…"
      ]
     },
     "metadata": {},
     "output_type": "display_data"
    },
    {
     "name": "stdout",
     "output_type": "stream",
     "text": [
      "\n",
      "Done - 104\n"
     ]
    },
    {
     "data": {
      "application/vnd.jupyter.widget-view+json": {
       "model_id": "82d23176258947deaf4b1cfea81a2f29",
       "version_major": 2,
       "version_minor": 0
      },
      "text/plain": [
       "HBox(children=(FloatProgress(value=0.0, description='Executing', max=33.0, style=ProgressStyle(description_wid…"
      ]
     },
     "metadata": {},
     "output_type": "display_data"
    },
    {
     "name": "stdout",
     "output_type": "stream",
     "text": [
      "\n",
      "Done - 105\n"
     ]
    },
    {
     "data": {
      "application/vnd.jupyter.widget-view+json": {
       "model_id": "1d12b73114c84b82a56aa888c10bc135",
       "version_major": 2,
       "version_minor": 0
      },
      "text/plain": [
       "HBox(children=(FloatProgress(value=0.0, description='Executing', max=33.0, style=ProgressStyle(description_wid…"
      ]
     },
     "metadata": {},
     "output_type": "display_data"
    },
    {
     "name": "stdout",
     "output_type": "stream",
     "text": [
      "\n",
      "Done - 106\n"
     ]
    },
    {
     "data": {
      "application/vnd.jupyter.widget-view+json": {
       "model_id": "463b8301db9d4522a8d64727de844486",
       "version_major": 2,
       "version_minor": 0
      },
      "text/plain": [
       "HBox(children=(FloatProgress(value=0.0, description='Executing', max=33.0, style=ProgressStyle(description_wid…"
      ]
     },
     "metadata": {},
     "output_type": "display_data"
    },
    {
     "name": "stdout",
     "output_type": "stream",
     "text": [
      "\n",
      "Done - 107\n"
     ]
    },
    {
     "data": {
      "application/vnd.jupyter.widget-view+json": {
       "model_id": "d411d84cf61d4f8e9a2a6ccbfd04f80c",
       "version_major": 2,
       "version_minor": 0
      },
      "text/plain": [
       "HBox(children=(FloatProgress(value=0.0, description='Executing', max=33.0, style=ProgressStyle(description_wid…"
      ]
     },
     "metadata": {},
     "output_type": "display_data"
    },
    {
     "name": "stdout",
     "output_type": "stream",
     "text": [
      "\n",
      "Done - 108\n"
     ]
    },
    {
     "data": {
      "application/vnd.jupyter.widget-view+json": {
       "model_id": "f070408750654c58b38821c5667aba92",
       "version_major": 2,
       "version_minor": 0
      },
      "text/plain": [
       "HBox(children=(FloatProgress(value=0.0, description='Executing', max=33.0, style=ProgressStyle(description_wid…"
      ]
     },
     "metadata": {},
     "output_type": "display_data"
    },
    {
     "name": "stdout",
     "output_type": "stream",
     "text": [
      "\n",
      "Done - 109\n"
     ]
    },
    {
     "data": {
      "application/vnd.jupyter.widget-view+json": {
       "model_id": "f58d2a1deb9d461ba24c93210dba6d39",
       "version_major": 2,
       "version_minor": 0
      },
      "text/plain": [
       "HBox(children=(FloatProgress(value=0.0, description='Executing', max=33.0, style=ProgressStyle(description_wid…"
      ]
     },
     "metadata": {},
     "output_type": "display_data"
    },
    {
     "name": "stdout",
     "output_type": "stream",
     "text": [
      "\n",
      "Done - 11\n"
     ]
    },
    {
     "data": {
      "application/vnd.jupyter.widget-view+json": {
       "model_id": "dec43ae1e4674572bcf6e2fcf7babca5",
       "version_major": 2,
       "version_minor": 0
      },
      "text/plain": [
       "HBox(children=(FloatProgress(value=0.0, description='Executing', max=33.0, style=ProgressStyle(description_wid…"
      ]
     },
     "metadata": {},
     "output_type": "display_data"
    },
    {
     "name": "stdout",
     "output_type": "stream",
     "text": [
      "\n",
      "Done - 110\n"
     ]
    },
    {
     "data": {
      "application/vnd.jupyter.widget-view+json": {
       "model_id": "dd07529fba70417d874b19ace5d6437f",
       "version_major": 2,
       "version_minor": 0
      },
      "text/plain": [
       "HBox(children=(FloatProgress(value=0.0, description='Executing', max=33.0, style=ProgressStyle(description_wid…"
      ]
     },
     "metadata": {},
     "output_type": "display_data"
    },
    {
     "name": "stdout",
     "output_type": "stream",
     "text": [
      "\n",
      "Done - 111\n"
     ]
    },
    {
     "data": {
      "application/vnd.jupyter.widget-view+json": {
       "model_id": "ff254724b5a84cd685bbb232919c4eb6",
       "version_major": 2,
       "version_minor": 0
      },
      "text/plain": [
       "HBox(children=(FloatProgress(value=0.0, description='Executing', max=33.0, style=ProgressStyle(description_wid…"
      ]
     },
     "metadata": {},
     "output_type": "display_data"
    },
    {
     "name": "stdout",
     "output_type": "stream",
     "text": [
      "\n",
      "Done - 112\n"
     ]
    },
    {
     "data": {
      "application/vnd.jupyter.widget-view+json": {
       "model_id": "369e71d350fd4e3eb9b42eaccebee2a1",
       "version_major": 2,
       "version_minor": 0
      },
      "text/plain": [
       "HBox(children=(FloatProgress(value=0.0, description='Executing', max=33.0, style=ProgressStyle(description_wid…"
      ]
     },
     "metadata": {},
     "output_type": "display_data"
    },
    {
     "name": "stdout",
     "output_type": "stream",
     "text": [
      "\n",
      "Done - 113\n"
     ]
    },
    {
     "data": {
      "application/vnd.jupyter.widget-view+json": {
       "model_id": "a6eb2c8990ff4481bddf435fc49e3d30",
       "version_major": 2,
       "version_minor": 0
      },
      "text/plain": [
       "HBox(children=(FloatProgress(value=0.0, description='Executing', max=33.0, style=ProgressStyle(description_wid…"
      ]
     },
     "metadata": {},
     "output_type": "display_data"
    },
    {
     "name": "stdout",
     "output_type": "stream",
     "text": [
      "\n",
      "Done - 114\n"
     ]
    },
    {
     "data": {
      "application/vnd.jupyter.widget-view+json": {
       "model_id": "104fa42ba999492c8442476ecf01c3dd",
       "version_major": 2,
       "version_minor": 0
      },
      "text/plain": [
       "HBox(children=(FloatProgress(value=0.0, description='Executing', max=33.0, style=ProgressStyle(description_wid…"
      ]
     },
     "metadata": {},
     "output_type": "display_data"
    },
    {
     "name": "stdout",
     "output_type": "stream",
     "text": [
      "\n",
      "Done - 115\n"
     ]
    },
    {
     "data": {
      "application/vnd.jupyter.widget-view+json": {
       "model_id": "5769cbec2f9f4660a69bdd5fc52a933b",
       "version_major": 2,
       "version_minor": 0
      },
      "text/plain": [
       "HBox(children=(FloatProgress(value=0.0, description='Executing', max=33.0, style=ProgressStyle(description_wid…"
      ]
     },
     "metadata": {},
     "output_type": "display_data"
    },
    {
     "name": "stdout",
     "output_type": "stream",
     "text": [
      "\n",
      "Done - 116\n"
     ]
    },
    {
     "data": {
      "application/vnd.jupyter.widget-view+json": {
       "model_id": "c501f6479603406ebc952d1f37f5802b",
       "version_major": 2,
       "version_minor": 0
      },
      "text/plain": [
       "HBox(children=(FloatProgress(value=0.0, description='Executing', max=33.0, style=ProgressStyle(description_wid…"
      ]
     },
     "metadata": {},
     "output_type": "display_data"
    },
    {
     "name": "stdout",
     "output_type": "stream",
     "text": [
      "\n",
      "Done - 117\n"
     ]
    },
    {
     "data": {
      "application/vnd.jupyter.widget-view+json": {
       "model_id": "c929dd926acb4f90a4fc644ebf789625",
       "version_major": 2,
       "version_minor": 0
      },
      "text/plain": [
       "HBox(children=(FloatProgress(value=0.0, description='Executing', max=33.0, style=ProgressStyle(description_wid…"
      ]
     },
     "metadata": {},
     "output_type": "display_data"
    },
    {
     "name": "stdout",
     "output_type": "stream",
     "text": [
      "\n",
      "Done - 118\n"
     ]
    },
    {
     "data": {
      "application/vnd.jupyter.widget-view+json": {
       "model_id": "79f3a86d74de4710b3b1ff07b60b5f05",
       "version_major": 2,
       "version_minor": 0
      },
      "text/plain": [
       "HBox(children=(FloatProgress(value=0.0, description='Executing', max=33.0, style=ProgressStyle(description_wid…"
      ]
     },
     "metadata": {},
     "output_type": "display_data"
    },
    {
     "name": "stdout",
     "output_type": "stream",
     "text": [
      "\n",
      "Done - 119\n"
     ]
    },
    {
     "data": {
      "application/vnd.jupyter.widget-view+json": {
       "model_id": "6afb3aadee1c47a8b95501c165b41a25",
       "version_major": 2,
       "version_minor": 0
      },
      "text/plain": [
       "HBox(children=(FloatProgress(value=0.0, description='Executing', max=33.0, style=ProgressStyle(description_wid…"
      ]
     },
     "metadata": {},
     "output_type": "display_data"
    },
    {
     "name": "stdout",
     "output_type": "stream",
     "text": [
      "\n",
      "Done - 12\n"
     ]
    },
    {
     "data": {
      "application/vnd.jupyter.widget-view+json": {
       "model_id": "010b8d08f25c482ea71d4b84bc91029f",
       "version_major": 2,
       "version_minor": 0
      },
      "text/plain": [
       "HBox(children=(FloatProgress(value=0.0, description='Executing', max=33.0, style=ProgressStyle(description_wid…"
      ]
     },
     "metadata": {},
     "output_type": "display_data"
    },
    {
     "name": "stdout",
     "output_type": "stream",
     "text": [
      "\n",
      "Done - 120\n"
     ]
    },
    {
     "data": {
      "application/vnd.jupyter.widget-view+json": {
       "model_id": "94b262502cd24fd4a32e8fbea2442ac9",
       "version_major": 2,
       "version_minor": 0
      },
      "text/plain": [
       "HBox(children=(FloatProgress(value=0.0, description='Executing', max=33.0, style=ProgressStyle(description_wid…"
      ]
     },
     "metadata": {},
     "output_type": "display_data"
    },
    {
     "name": "stdout",
     "output_type": "stream",
     "text": [
      "\n",
      "Done - 121\n"
     ]
    },
    {
     "data": {
      "application/vnd.jupyter.widget-view+json": {
       "model_id": "5ddb09fd5793482298ebd272e2889078",
       "version_major": 2,
       "version_minor": 0
      },
      "text/plain": [
       "HBox(children=(FloatProgress(value=0.0, description='Executing', max=33.0, style=ProgressStyle(description_wid…"
      ]
     },
     "metadata": {},
     "output_type": "display_data"
    },
    {
     "name": "stdout",
     "output_type": "stream",
     "text": [
      "\n",
      "Done - 122\n"
     ]
    },
    {
     "data": {
      "application/vnd.jupyter.widget-view+json": {
       "model_id": "07fef6b8a78d4343908bf2bf1d7589ff",
       "version_major": 2,
       "version_minor": 0
      },
      "text/plain": [
       "HBox(children=(FloatProgress(value=0.0, description='Executing', max=33.0, style=ProgressStyle(description_wid…"
      ]
     },
     "metadata": {},
     "output_type": "display_data"
    },
    {
     "name": "stdout",
     "output_type": "stream",
     "text": [
      "\n",
      "Done - 123\n"
     ]
    },
    {
     "data": {
      "application/vnd.jupyter.widget-view+json": {
       "model_id": "b869dc3dd4964024b89425420b1038a8",
       "version_major": 2,
       "version_minor": 0
      },
      "text/plain": [
       "HBox(children=(FloatProgress(value=0.0, description='Executing', max=33.0, style=ProgressStyle(description_wid…"
      ]
     },
     "metadata": {},
     "output_type": "display_data"
    },
    {
     "name": "stdout",
     "output_type": "stream",
     "text": [
      "\n",
      "Done - 124\n"
     ]
    },
    {
     "data": {
      "application/vnd.jupyter.widget-view+json": {
       "model_id": "def743512fbe4eb1a705f317ffa51ad1",
       "version_major": 2,
       "version_minor": 0
      },
      "text/plain": [
       "HBox(children=(FloatProgress(value=0.0, description='Executing', max=33.0, style=ProgressStyle(description_wid…"
      ]
     },
     "metadata": {},
     "output_type": "display_data"
    },
    {
     "name": "stdout",
     "output_type": "stream",
     "text": [
      "\n",
      "Done - 125\n"
     ]
    },
    {
     "data": {
      "application/vnd.jupyter.widget-view+json": {
       "model_id": "5078a31b36ca4d96810e466c33d07f89",
       "version_major": 2,
       "version_minor": 0
      },
      "text/plain": [
       "HBox(children=(FloatProgress(value=0.0, description='Executing', max=33.0, style=ProgressStyle(description_wid…"
      ]
     },
     "metadata": {},
     "output_type": "display_data"
    },
    {
     "name": "stdout",
     "output_type": "stream",
     "text": [
      "\n",
      "Done - 126\n"
     ]
    },
    {
     "data": {
      "application/vnd.jupyter.widget-view+json": {
       "model_id": "265477c96f4345a98368d24c53f730d2",
       "version_major": 2,
       "version_minor": 0
      },
      "text/plain": [
       "HBox(children=(FloatProgress(value=0.0, description='Executing', max=33.0, style=ProgressStyle(description_wid…"
      ]
     },
     "metadata": {},
     "output_type": "display_data"
    },
    {
     "name": "stdout",
     "output_type": "stream",
     "text": [
      "\n",
      "Done - 127\n"
     ]
    },
    {
     "data": {
      "application/vnd.jupyter.widget-view+json": {
       "model_id": "3086ae654ae84c0a96369a550c3d443a",
       "version_major": 2,
       "version_minor": 0
      },
      "text/plain": [
       "HBox(children=(FloatProgress(value=0.0, description='Executing', max=33.0, style=ProgressStyle(description_wid…"
      ]
     },
     "metadata": {},
     "output_type": "display_data"
    },
    {
     "name": "stdout",
     "output_type": "stream",
     "text": [
      "\n",
      "Done - 128\n"
     ]
    },
    {
     "data": {
      "application/vnd.jupyter.widget-view+json": {
       "model_id": "1d2d8ac214834f48b8da5aedf223adc8",
       "version_major": 2,
       "version_minor": 0
      },
      "text/plain": [
       "HBox(children=(FloatProgress(value=0.0, description='Executing', max=33.0, style=ProgressStyle(description_wid…"
      ]
     },
     "metadata": {},
     "output_type": "display_data"
    },
    {
     "name": "stdout",
     "output_type": "stream",
     "text": [
      "\n",
      "Done - 129\n"
     ]
    },
    {
     "data": {
      "application/vnd.jupyter.widget-view+json": {
       "model_id": "9fbe28ead6a54a5c9ade0c6c73b6eca0",
       "version_major": 2,
       "version_minor": 0
      },
      "text/plain": [
       "HBox(children=(FloatProgress(value=0.0, description='Executing', max=33.0, style=ProgressStyle(description_wid…"
      ]
     },
     "metadata": {},
     "output_type": "display_data"
    },
    {
     "name": "stdout",
     "output_type": "stream",
     "text": [
      "\n",
      "Done - 13\n"
     ]
    },
    {
     "data": {
      "application/vnd.jupyter.widget-view+json": {
       "model_id": "afb0a148430147d1a5db2a783b5de539",
       "version_major": 2,
       "version_minor": 0
      },
      "text/plain": [
       "HBox(children=(FloatProgress(value=0.0, description='Executing', max=33.0, style=ProgressStyle(description_wid…"
      ]
     },
     "metadata": {},
     "output_type": "display_data"
    },
    {
     "name": "stdout",
     "output_type": "stream",
     "text": [
      "\n",
      "Done - 130\n"
     ]
    },
    {
     "data": {
      "application/vnd.jupyter.widget-view+json": {
       "model_id": "49a34f9d84d64ff4b4a85a9949f8b906",
       "version_major": 2,
       "version_minor": 0
      },
      "text/plain": [
       "HBox(children=(FloatProgress(value=0.0, description='Executing', max=33.0, style=ProgressStyle(description_wid…"
      ]
     },
     "metadata": {},
     "output_type": "display_data"
    },
    {
     "name": "stdout",
     "output_type": "stream",
     "text": [
      "\n",
      "Done - 131\n"
     ]
    },
    {
     "data": {
      "application/vnd.jupyter.widget-view+json": {
       "model_id": "1fb10dc06ef847f6a984c9f5b8bf3e58",
       "version_major": 2,
       "version_minor": 0
      },
      "text/plain": [
       "HBox(children=(FloatProgress(value=0.0, description='Executing', max=33.0, style=ProgressStyle(description_wid…"
      ]
     },
     "metadata": {},
     "output_type": "display_data"
    },
    {
     "name": "stdout",
     "output_type": "stream",
     "text": [
      "\n",
      "Done - 132\n"
     ]
    },
    {
     "data": {
      "application/vnd.jupyter.widget-view+json": {
       "model_id": "76f0f64df15a43eb8570103e78b32ad2",
       "version_major": 2,
       "version_minor": 0
      },
      "text/plain": [
       "HBox(children=(FloatProgress(value=0.0, description='Executing', max=33.0, style=ProgressStyle(description_wid…"
      ]
     },
     "metadata": {},
     "output_type": "display_data"
    },
    {
     "name": "stdout",
     "output_type": "stream",
     "text": [
      "\n",
      "Done - 133\n"
     ]
    },
    {
     "data": {
      "application/vnd.jupyter.widget-view+json": {
       "model_id": "a6f1731eda6744f0a0fa7cc6d39a2210",
       "version_major": 2,
       "version_minor": 0
      },
      "text/plain": [
       "HBox(children=(FloatProgress(value=0.0, description='Executing', max=33.0, style=ProgressStyle(description_wid…"
      ]
     },
     "metadata": {},
     "output_type": "display_data"
    },
    {
     "name": "stdout",
     "output_type": "stream",
     "text": [
      "\n",
      "Done - 134\n"
     ]
    },
    {
     "data": {
      "application/vnd.jupyter.widget-view+json": {
       "model_id": "9019352b5aae45859d2fa7334bf01b12",
       "version_major": 2,
       "version_minor": 0
      },
      "text/plain": [
       "HBox(children=(FloatProgress(value=0.0, description='Executing', max=33.0, style=ProgressStyle(description_wid…"
      ]
     },
     "metadata": {},
     "output_type": "display_data"
    },
    {
     "name": "stdout",
     "output_type": "stream",
     "text": [
      "\n",
      "Done - 135\n"
     ]
    },
    {
     "data": {
      "application/vnd.jupyter.widget-view+json": {
       "model_id": "e71a31ebb1bc4f529939f90d53b6d530",
       "version_major": 2,
       "version_minor": 0
      },
      "text/plain": [
       "HBox(children=(FloatProgress(value=0.0, description='Executing', max=33.0, style=ProgressStyle(description_wid…"
      ]
     },
     "metadata": {},
     "output_type": "display_data"
    },
    {
     "name": "stdout",
     "output_type": "stream",
     "text": [
      "\n",
      "Done - 136\n"
     ]
    },
    {
     "data": {
      "application/vnd.jupyter.widget-view+json": {
       "model_id": "9580987fe514487fa0661701d6f7c162",
       "version_major": 2,
       "version_minor": 0
      },
      "text/plain": [
       "HBox(children=(FloatProgress(value=0.0, description='Executing', max=33.0, style=ProgressStyle(description_wid…"
      ]
     },
     "metadata": {},
     "output_type": "display_data"
    },
    {
     "name": "stdout",
     "output_type": "stream",
     "text": [
      "\n",
      "Done - 137\n"
     ]
    },
    {
     "data": {
      "application/vnd.jupyter.widget-view+json": {
       "model_id": "55d0472741bf48e5ad05697958de4a00",
       "version_major": 2,
       "version_minor": 0
      },
      "text/plain": [
       "HBox(children=(FloatProgress(value=0.0, description='Executing', max=33.0, style=ProgressStyle(description_wid…"
      ]
     },
     "metadata": {},
     "output_type": "display_data"
    },
    {
     "name": "stdout",
     "output_type": "stream",
     "text": [
      "\n",
      "Done - 138\n"
     ]
    },
    {
     "data": {
      "application/vnd.jupyter.widget-view+json": {
       "model_id": "f23c5d07f0014515af630aa515683dd1",
       "version_major": 2,
       "version_minor": 0
      },
      "text/plain": [
       "HBox(children=(FloatProgress(value=0.0, description='Executing', max=33.0, style=ProgressStyle(description_wid…"
      ]
     },
     "metadata": {},
     "output_type": "display_data"
    },
    {
     "name": "stdout",
     "output_type": "stream",
     "text": [
      "\n",
      "Done - 139\n"
     ]
    },
    {
     "data": {
      "application/vnd.jupyter.widget-view+json": {
       "model_id": "e415febecbd345669393fb7db31b11be",
       "version_major": 2,
       "version_minor": 0
      },
      "text/plain": [
       "HBox(children=(FloatProgress(value=0.0, description='Executing', max=33.0, style=ProgressStyle(description_wid…"
      ]
     },
     "metadata": {},
     "output_type": "display_data"
    },
    {
     "name": "stdout",
     "output_type": "stream",
     "text": [
      "\n",
      "Done - 14\n"
     ]
    },
    {
     "data": {
      "application/vnd.jupyter.widget-view+json": {
       "model_id": "539da670583b4cb99a40792fda48672a",
       "version_major": 2,
       "version_minor": 0
      },
      "text/plain": [
       "HBox(children=(FloatProgress(value=0.0, description='Executing', max=33.0, style=ProgressStyle(description_wid…"
      ]
     },
     "metadata": {},
     "output_type": "display_data"
    },
    {
     "name": "stdout",
     "output_type": "stream",
     "text": [
      "\n",
      "Done - 140\n"
     ]
    },
    {
     "data": {
      "application/vnd.jupyter.widget-view+json": {
       "model_id": "72b8324afefa4e29864abbc9e101c560",
       "version_major": 2,
       "version_minor": 0
      },
      "text/plain": [
       "HBox(children=(FloatProgress(value=0.0, description='Executing', max=33.0, style=ProgressStyle(description_wid…"
      ]
     },
     "metadata": {},
     "output_type": "display_data"
    },
    {
     "name": "stdout",
     "output_type": "stream",
     "text": [
      "\n",
      "Done - 141\n"
     ]
    },
    {
     "data": {
      "application/vnd.jupyter.widget-view+json": {
       "model_id": "7a7c0e61ec1245cc8d015ebce22152ec",
       "version_major": 2,
       "version_minor": 0
      },
      "text/plain": [
       "HBox(children=(FloatProgress(value=0.0, description='Executing', max=33.0, style=ProgressStyle(description_wid…"
      ]
     },
     "metadata": {},
     "output_type": "display_data"
    },
    {
     "name": "stdout",
     "output_type": "stream",
     "text": [
      "\n",
      "Done - 142\n"
     ]
    },
    {
     "data": {
      "application/vnd.jupyter.widget-view+json": {
       "model_id": "9858a63dec4d469fa51049962ffd89e0",
       "version_major": 2,
       "version_minor": 0
      },
      "text/plain": [
       "HBox(children=(FloatProgress(value=0.0, description='Executing', max=33.0, style=ProgressStyle(description_wid…"
      ]
     },
     "metadata": {},
     "output_type": "display_data"
    },
    {
     "name": "stdout",
     "output_type": "stream",
     "text": [
      "\n",
      "Done - 143\n"
     ]
    },
    {
     "data": {
      "application/vnd.jupyter.widget-view+json": {
       "model_id": "1c0406ba22814244b010544935501378",
       "version_major": 2,
       "version_minor": 0
      },
      "text/plain": [
       "HBox(children=(FloatProgress(value=0.0, description='Executing', max=33.0, style=ProgressStyle(description_wid…"
      ]
     },
     "metadata": {},
     "output_type": "display_data"
    },
    {
     "name": "stdout",
     "output_type": "stream",
     "text": [
      "\n",
      "Done - 144\n"
     ]
    },
    {
     "data": {
      "application/vnd.jupyter.widget-view+json": {
       "model_id": "adccceaaf1694dee867581ef6a26a892",
       "version_major": 2,
       "version_minor": 0
      },
      "text/plain": [
       "HBox(children=(FloatProgress(value=0.0, description='Executing', max=33.0, style=ProgressStyle(description_wid…"
      ]
     },
     "metadata": {},
     "output_type": "display_data"
    },
    {
     "name": "stdout",
     "output_type": "stream",
     "text": [
      "\n",
      "Done - 145\n"
     ]
    },
    {
     "data": {
      "application/vnd.jupyter.widget-view+json": {
       "model_id": "bbff885c1898439097e228f9b306ab14",
       "version_major": 2,
       "version_minor": 0
      },
      "text/plain": [
       "HBox(children=(FloatProgress(value=0.0, description='Executing', max=33.0, style=ProgressStyle(description_wid…"
      ]
     },
     "metadata": {},
     "output_type": "display_data"
    },
    {
     "name": "stdout",
     "output_type": "stream",
     "text": [
      "\n"
     ]
    },
    {
     "ename": "PapermillExecutionError",
     "evalue": "\n---------------------------------------------------------------------------\nException encountered at \"In [28]\":\n---------------------------------------------------------------------------\nNameError                                 Traceback (most recent call last)\n<ipython-input-28-77cc581ea6d3> in <module>\n     14         pass\n     15 \n---> 16 out = cv2.VideoWriter('nnBrook.avi', cv2.VideoWriter_fourcc(*'DIVX'), 15, size)\n     17 \n     18 for i in range(len(img_array)):\n\nNameError: name 'size' is not defined\n",
     "output_type": "error",
     "traceback": [
      "\u001b[1;31m---------------------------------------------------------------------------\u001b[0m",
      "\u001b[1;31mPapermillExecutionError\u001b[0m                   Traceback (most recent call last)",
      "\u001b[1;32m<ipython-input-10-075a4d3a10c2>\u001b[0m in \u001b[0;36m<module>\u001b[1;34m\u001b[0m\n\u001b[0;32m      3\u001b[0m                         \u001b[1;34m'outputs/temp.ipynb'\u001b[0m\u001b[1;33m,\u001b[0m\u001b[1;33m\u001b[0m\u001b[1;33m\u001b[0m\u001b[0m\n\u001b[0;32m      4\u001b[0m                         parameters=dict(content_path=f'movie/{a}',\n\u001b[1;32m----> 5\u001b[1;33m                                         name_me=a[:-4]))\n\u001b[0m\u001b[0;32m      6\u001b[0m     \u001b[0mprint\u001b[0m\u001b[1;33m(\u001b[0m\u001b[1;34mf'Done - {a[:-4]}'\u001b[0m\u001b[1;33m)\u001b[0m\u001b[1;33m\u001b[0m\u001b[1;33m\u001b[0m\u001b[0m\n",
      "\u001b[1;32m~\\Anaconda3\\lib\\site-packages\\papermill\\execute.py\u001b[0m in \u001b[0;36mexecute_notebook\u001b[1;34m(input_path, output_path, parameters, engine_name, request_save_on_cell_execute, prepare_only, kernel_name, progress_bar, log_output, stdout_file, stderr_file, start_timeout, report_mode, cwd, **engine_kwargs)\u001b[0m\n\u001b[0;32m    106\u001b[0m \u001b[1;33m\u001b[0m\u001b[0m\n\u001b[0;32m    107\u001b[0m             \u001b[1;31m# Check for errors first (it saves on error before raising)\u001b[0m\u001b[1;33m\u001b[0m\u001b[1;33m\u001b[0m\u001b[1;33m\u001b[0m\u001b[0m\n\u001b[1;32m--> 108\u001b[1;33m             \u001b[0mraise_for_execution_errors\u001b[0m\u001b[1;33m(\u001b[0m\u001b[0mnb\u001b[0m\u001b[1;33m,\u001b[0m \u001b[0moutput_path\u001b[0m\u001b[1;33m)\u001b[0m\u001b[1;33m\u001b[0m\u001b[1;33m\u001b[0m\u001b[0m\n\u001b[0m\u001b[0;32m    109\u001b[0m \u001b[1;33m\u001b[0m\u001b[0m\n\u001b[0;32m    110\u001b[0m         \u001b[1;31m# Write final output in case the engine didn't write it on cell completion.\u001b[0m\u001b[1;33m\u001b[0m\u001b[1;33m\u001b[0m\u001b[1;33m\u001b[0m\u001b[0m\n",
      "\u001b[1;32m~\\Anaconda3\\lib\\site-packages\\papermill\\execute.py\u001b[0m in \u001b[0;36mraise_for_execution_errors\u001b[1;34m(nb, output_path)\u001b[0m\n\u001b[0;32m    190\u001b[0m         \u001b[0mnb\u001b[0m\u001b[1;33m.\u001b[0m\u001b[0mcells\u001b[0m \u001b[1;33m=\u001b[0m \u001b[1;33m[\u001b[0m\u001b[0merror_msg_cell\u001b[0m\u001b[1;33m]\u001b[0m \u001b[1;33m+\u001b[0m \u001b[0mnb\u001b[0m\u001b[1;33m.\u001b[0m\u001b[0mcells\u001b[0m\u001b[1;33m\u001b[0m\u001b[1;33m\u001b[0m\u001b[0m\n\u001b[0;32m    191\u001b[0m         \u001b[0mwrite_ipynb\u001b[0m\u001b[1;33m(\u001b[0m\u001b[0mnb\u001b[0m\u001b[1;33m,\u001b[0m \u001b[0moutput_path\u001b[0m\u001b[1;33m)\u001b[0m\u001b[1;33m\u001b[0m\u001b[1;33m\u001b[0m\u001b[0m\n\u001b[1;32m--> 192\u001b[1;33m         \u001b[1;32mraise\u001b[0m \u001b[0merror\u001b[0m\u001b[1;33m\u001b[0m\u001b[1;33m\u001b[0m\u001b[0m\n\u001b[0m",
      "\u001b[1;31mPapermillExecutionError\u001b[0m: \n---------------------------------------------------------------------------\nException encountered at \"In [28]\":\n---------------------------------------------------------------------------\nNameError                                 Traceback (most recent call last)\n<ipython-input-28-77cc581ea6d3> in <module>\n     14         pass\n     15 \n---> 16 out = cv2.VideoWriter('nnBrook.avi', cv2.VideoWriter_fourcc(*'DIVX'), 15, size)\n     17 \n     18 for i in range(len(img_array)):\n\nNameError: name 'size' is not defined\n"
     ]
    }
   ],
   "source": [
    "for a in imgs:\n",
    "    pm.execute_notebook('new.ipynb',\n",
    "                        'outputs/temp.ipynb',\n",
    "                        parameters=dict(content_path=f'movie/{a}',\n",
    "                                        name_me=a[:-4]))\n",
    "    print(f'Done - {a[:-4]}')"
   ]
  },
  {
   "cell_type": "code",
   "execution_count": null,
   "metadata": {},
   "outputs": [],
   "source": []
  },
  {
   "cell_type": "code",
   "execution_count": null,
   "metadata": {},
   "outputs": [],
   "source": []
  }
 ],
 "metadata": {
  "kernelspec": {
   "display_name": "Python 3",
   "language": "python",
   "name": "python3"
  },
  "language_info": {
   "codemirror_mode": {
    "name": "ipython",
    "version": 3
   },
   "file_extension": ".py",
   "mimetype": "text/x-python",
   "name": "python",
   "nbconvert_exporter": "python",
   "pygments_lexer": "ipython3",
   "version": "3.7.6"
  },
  "toc": {
   "base_numbering": 1,
   "nav_menu": {},
   "number_sections": true,
   "sideBar": true,
   "skip_h1_title": false,
   "title_cell": "Table of Contents",
   "title_sidebar": "Contents",
   "toc_cell": false,
   "toc_position": {},
   "toc_section_display": true,
   "toc_window_display": false
  }
 },
 "nbformat": 4,
 "nbformat_minor": 2
}
